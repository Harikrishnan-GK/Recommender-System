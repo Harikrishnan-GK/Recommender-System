{
 "cells": [
  {
   "cell_type": "markdown",
   "id": "d378b625",
   "metadata": {},
   "source": [
    "# GROUP PROJECT - RECOMMENDATION TOOLS 2022\n",
    "\n",
    "#### BY \n",
    "#### -  HARIKRISHNAN GOPALAKRISHNAN, SWASTHIK VELLINGIRI KOWSALYA"
   ]
  },
  {
   "cell_type": "markdown",
   "id": "eb7b39ce",
   "metadata": {},
   "source": [
    "### Loading Packages"
   ]
  },
  {
   "cell_type": "code",
   "execution_count": 240,
   "id": "6a1c12db",
   "metadata": {},
   "outputs": [
    {
     "name": "stderr",
     "output_type": "stream",
     "text": [
      "[nltk_data] Downloading package punkt to\n",
      "[nltk_data]     C:\\Users\\svellingirikowsalya\\AppData\\Roaming\\nltk_data\n",
      "[nltk_data]     ...\n",
      "[nltk_data]   Package punkt is already up-to-date!\n",
      "[nltk_data] Downloading package stopwords to\n",
      "[nltk_data]     C:\\Users\\svellingirikowsalya\\AppData\\Roaming\\nltk_data\n",
      "[nltk_data]     ...\n",
      "[nltk_data]   Package stopwords is already up-to-date!\n"
     ]
    }
   ],
   "source": [
    "import sys\n",
    "sys.path.append(\"../IESEGRecSys/IESEGRecSys\")\n",
    "import eval\n",
    "from model import ContentBased\n",
    "import numpy as np\n",
    "import pandas as pd\n",
    "import nltk \n",
    "nltk.download('punkt')\n",
    "nltk.download('stopwords')\n",
    "from nltk.tokenize import word_tokenize\n",
    "from nltk.corpus import stopwords\n",
    "from sklearn.feature_extraction.text import TfidfVectorizer\n",
    "from nltk.stem.snowball import SnowballStemmer\n",
    "from sklearn.model_selection import train_test_split\n",
    "from surprise import KNNBasic, SVD, CoClustering, Dataset, Reader, SVDpp, KNNBasic, KNNWithMeans, KNNBaseline \n",
    "from surprise import KNNWithZScore\n",
    "from surprise import KNNBaseline\n",
    "from surprise import BaselineOnly\n",
    "from surprise import NMF\n",
    "from model import ContentBased\n",
    "from surprise import accuracy\n",
    "from surprise.model_selection import GridSearchCV\n",
    "from surprise.model_selection import cross_validate\n",
    "import seaborn as sns"
   ]
  },
  {
   "cell_type": "markdown",
   "id": "ce3f968f",
   "metadata": {},
   "source": [
    "### Importing Data"
   ]
  },
  {
   "cell_type": "code",
   "execution_count": 227,
   "id": "cae90d4c",
   "metadata": {},
   "outputs": [],
   "source": [
    "artists = pd.read_table('../Group Project/Data-20220306/Data Group Assignment/Artists.dat')\n",
    "tags = pd.read_table('../Group Project/Data-20220306/Data Group Assignment/tags.dat')\n",
    "ua = pd.read_table('../Group Project/Data-20220306/Data Group Assignment/user_artists.dat')\n",
    "uta = pd.read_table('../Group Project/Data-20220306/Data Group Assignment/user_taggedartists.dat')"
   ]
  },
  {
   "cell_type": "markdown",
   "id": "90f11ec1",
   "metadata": {},
   "source": [
    "### Exploratory Data Analysis"
   ]
  },
  {
   "cell_type": "code",
   "execution_count": 228,
   "id": "923b1dda",
   "metadata": {},
   "outputs": [
    {
     "data": {
      "text/html": [
       "<div>\n",
       "<style scoped>\n",
       "    .dataframe tbody tr th:only-of-type {\n",
       "        vertical-align: middle;\n",
       "    }\n",
       "\n",
       "    .dataframe tbody tr th {\n",
       "        vertical-align: top;\n",
       "    }\n",
       "\n",
       "    .dataframe thead th {\n",
       "        text-align: right;\n",
       "    }\n",
       "</style>\n",
       "<table border=\"1\" class=\"dataframe\">\n",
       "  <thead>\n",
       "    <tr style=\"text-align: right;\">\n",
       "      <th></th>\n",
       "      <th>userID</th>\n",
       "      <th>artistID</th>\n",
       "      <th>tagID</th>\n",
       "      <th>day</th>\n",
       "      <th>month</th>\n",
       "      <th>year</th>\n",
       "      <th>tagValue</th>\n",
       "    </tr>\n",
       "  </thead>\n",
       "  <tbody>\n",
       "    <tr>\n",
       "      <th>0</th>\n",
       "      <td>2</td>\n",
       "      <td>52</td>\n",
       "      <td>13</td>\n",
       "      <td>1</td>\n",
       "      <td>4</td>\n",
       "      <td>2009</td>\n",
       "      <td>chillout</td>\n",
       "    </tr>\n",
       "    <tr>\n",
       "      <th>1</th>\n",
       "      <td>2</td>\n",
       "      <td>52</td>\n",
       "      <td>15</td>\n",
       "      <td>1</td>\n",
       "      <td>4</td>\n",
       "      <td>2009</td>\n",
       "      <td>downtempo</td>\n",
       "    </tr>\n",
       "    <tr>\n",
       "      <th>2</th>\n",
       "      <td>2</td>\n",
       "      <td>52</td>\n",
       "      <td>18</td>\n",
       "      <td>1</td>\n",
       "      <td>4</td>\n",
       "      <td>2009</td>\n",
       "      <td>electronic</td>\n",
       "    </tr>\n",
       "    <tr>\n",
       "      <th>3</th>\n",
       "      <td>2</td>\n",
       "      <td>52</td>\n",
       "      <td>21</td>\n",
       "      <td>1</td>\n",
       "      <td>4</td>\n",
       "      <td>2009</td>\n",
       "      <td>trip-hop</td>\n",
       "    </tr>\n",
       "    <tr>\n",
       "      <th>4</th>\n",
       "      <td>2</td>\n",
       "      <td>52</td>\n",
       "      <td>41</td>\n",
       "      <td>1</td>\n",
       "      <td>4</td>\n",
       "      <td>2009</td>\n",
       "      <td>female vovalists</td>\n",
       "    </tr>\n",
       "  </tbody>\n",
       "</table>\n",
       "</div>"
      ],
      "text/plain": [
       "   userID  artistID  tagID  day  month  year          tagValue\n",
       "0       2        52     13    1      4  2009          chillout\n",
       "1       2        52     15    1      4  2009         downtempo\n",
       "2       2        52     18    1      4  2009        electronic\n",
       "3       2        52     21    1      4  2009          trip-hop\n",
       "4       2        52     41    1      4  2009  female vovalists"
      ]
     },
     "execution_count": 228,
     "metadata": {},
     "output_type": "execute_result"
    }
   ],
   "source": [
    "#Common Artist tags in terms of artists\n",
    "# merge the usertaggedartists and tags table\n",
    "\n",
    "u_tags = pd.merge(uta, tags, how='left', on='tagID')\n",
    "u_tags.head()"
   ]
  },
  {
   "cell_type": "code",
   "execution_count": 229,
   "id": "c84cecad",
   "metadata": {},
   "outputs": [],
   "source": [
    "ct =u_tags.groupby(\"artistID\")[\"tagValue\"].value_counts().rename(\"count\")\n",
    "ct = ct.reset_index()\n",
    "ct = ct.groupby(\"artistID\")\n",
    "ct = ct.first()[\"tagValue\"]"
   ]
  },
  {
   "cell_type": "code",
   "execution_count": 230,
   "id": "6b150cd8",
   "metadata": {},
   "outputs": [
    {
     "data": {
      "image/png": "[encoded data removed]",
      "text/plain": [
       "<Figure size 576x432 with 1 Axes>"
      ]
     },
     "metadata": {
      "needs_background": "light"
     },
     "output_type": "display_data"
    }
   ],
   "source": [
    "#PLot\n",
    "fig, ax = plt.subplots(figsize=(8,6))\n",
    "ct.value_counts().head(15).plot.bar(ax=ax,color='red')\n",
    "plt.title(\"Common Artist Tags by artists\", fontsize=15)\n",
    "plt.xlabel(\"Artist tags\", fontsize=10)\n",
    "plt.ylabel(\"Number of Artists\", fontsize=10)\n",
    "plt.xticks(rotation=45, ha=\"right\")\n",
    "plt.show()"
   ]
  },
  {
   "cell_type": "code",
   "execution_count": 231,
   "id": "2a570286",
   "metadata": {},
   "outputs": [],
   "source": [
    "#Common Artist tags in terms of users\n",
    "ct1 =u_tags.groupby(\"userID\")[\"tagValue\"].value_counts().rename(\"count\")\n",
    "ct1 = ct1.reset_index()\n",
    "ct1 = ct1.groupby(\"userID\")\n",
    "ct1 = ct1.first()[\"tagValue\"]"
   ]
  },
  {
   "cell_type": "code",
   "execution_count": 232,
   "id": "f091a5e5",
   "metadata": {},
   "outputs": [
    {
     "data": {
      "image/png": "[encoded data removed]",
      "text/plain": [
       "<Figure size 576x432 with 1 Axes>"
      ]
     },
     "metadata": {
      "needs_background": "light"
     },
     "output_type": "display_data"
    }
   ],
   "source": [
    "#PLot\n",
    "fig, ax = plt.subplots(figsize=(8,6))\n",
    "ct.value_counts().head(15).plot.bar(ax=ax,color='red')\n",
    "plt.title(\"Common Artist Tags by users\", fontsize=15)\n",
    "plt.xlabel(\"Artist tags\", fontsize=10)\n",
    "plt.ylabel(\"Number of Users\", fontsize=10)\n",
    "plt.xticks(rotation=45, ha=\"right\")\n",
    "plt.show()"
   ]
  },
  {
   "cell_type": "code",
   "execution_count": 233,
   "id": "d991fcff",
   "metadata": {},
   "outputs": [
    {
     "data": {
      "image/png": "[encoded data removed]",
      "text/plain": [
       "<Figure size 576x432 with 1 Axes>"
      ]
     },
     "metadata": {
      "needs_background": "light"
     },
     "output_type": "display_data"
    }
   ],
   "source": [
    "#Number of tags grouped by Artists\n",
    "fig, ax = plt.subplots(figsize=(8, 6))\n",
    "uta.groupby(\"artistID\")[\"tagID\"].nunique().hist(bins=40, ax=ax,color='red')\n",
    "plt.title(\"Tags Given to Artists\", fontsize=15)\n",
    "plt.xlabel(\"Number of Tags\", fontsize=10)\n",
    "plt.ylabel(\"Number of Artists\", fontsize=10)\n",
    "plt.show()"
   ]
  },
  {
   "cell_type": "code",
   "execution_count": 234,
   "id": "50592f32",
   "metadata": {},
   "outputs": [
    {
     "data": {
      "text/html": [
       "<div>\n",
       "<style scoped>\n",
       "    .dataframe tbody tr th:only-of-type {\n",
       "        vertical-align: middle;\n",
       "    }\n",
       "\n",
       "    .dataframe tbody tr th {\n",
       "        vertical-align: top;\n",
       "    }\n",
       "\n",
       "    .dataframe thead th {\n",
       "        text-align: right;\n",
       "    }\n",
       "</style>\n",
       "<table border=\"1\" class=\"dataframe\">\n",
       "  <thead>\n",
       "    <tr style=\"text-align: right;\">\n",
       "      <th></th>\n",
       "      <th>id</th>\n",
       "      <th>name</th>\n",
       "      <th>userID</th>\n",
       "      <th>artistID</th>\n",
       "      <th>weight</th>\n",
       "    </tr>\n",
       "  </thead>\n",
       "  <tbody>\n",
       "    <tr>\n",
       "      <th>0</th>\n",
       "      <td>1</td>\n",
       "      <td>MALICE MIZER</td>\n",
       "      <td>34</td>\n",
       "      <td>1</td>\n",
       "      <td>212</td>\n",
       "    </tr>\n",
       "    <tr>\n",
       "      <th>1</th>\n",
       "      <td>1</td>\n",
       "      <td>MALICE MIZER</td>\n",
       "      <td>274</td>\n",
       "      <td>1</td>\n",
       "      <td>483</td>\n",
       "    </tr>\n",
       "    <tr>\n",
       "      <th>2</th>\n",
       "      <td>1</td>\n",
       "      <td>MALICE MIZER</td>\n",
       "      <td>785</td>\n",
       "      <td>1</td>\n",
       "      <td>76</td>\n",
       "    </tr>\n",
       "    <tr>\n",
       "      <th>3</th>\n",
       "      <td>2</td>\n",
       "      <td>Diary of Dreams</td>\n",
       "      <td>135</td>\n",
       "      <td>2</td>\n",
       "      <td>1021</td>\n",
       "    </tr>\n",
       "    <tr>\n",
       "      <th>4</th>\n",
       "      <td>2</td>\n",
       "      <td>Diary of Dreams</td>\n",
       "      <td>257</td>\n",
       "      <td>2</td>\n",
       "      <td>152</td>\n",
       "    </tr>\n",
       "  </tbody>\n",
       "</table>\n",
       "</div>"
      ],
      "text/plain": [
       "   id             name  userID  artistID  weight\n",
       "0   1     MALICE MIZER      34         1     212\n",
       "1   1     MALICE MIZER     274         1     483\n",
       "2   1     MALICE MIZER     785         1      76\n",
       "3   2  Diary of Dreams     135         2    1021\n",
       "4   2  Diary of Dreams     257         2     152"
      ]
     },
     "execution_count": 234,
     "metadata": {},
     "output_type": "execute_result"
    }
   ],
   "source": [
    "ua_art = pd.merge(artists, ua,how='inner',left_on='id',right_on='artistID')\n",
    "\n",
    "ua_art = ua_art[['id','name','userID','artistID','weight']]\n",
    "ua_art.head()"
   ]
  },
  {
   "cell_type": "code",
   "execution_count": 235,
   "id": "a76bf206",
   "metadata": {},
   "outputs": [],
   "source": [
    "#Ranking the Artists in terms of Total number of plays\n",
    "rank_art = (ua_art.groupby(['name']).agg({'userID':'count','weight':'sum'}).\n",
    "    rename(columns={\"userID\":'Total_num_users',\"weight\":\"Total_num_A.plays\"}).\n",
    "              sort_values(['Total_num_A.plays'],ascending=False))\n",
    "\n",
    "rank_art['Avg_user_plays'] = rank_art['Total_num_A.plays']/rank_art['Total_num_users']"
   ]
  },
  {
   "cell_type": "code",
   "execution_count": 236,
   "id": "ff84e686",
   "metadata": {},
   "outputs": [
    {
     "data": {
      "text/html": [
       "<div>\n",
       "<style scoped>\n",
       "    .dataframe tbody tr th:only-of-type {\n",
       "        vertical-align: middle;\n",
       "    }\n",
       "\n",
       "    .dataframe tbody tr th {\n",
       "        vertical-align: top;\n",
       "    }\n",
       "\n",
       "    .dataframe thead th {\n",
       "        text-align: right;\n",
       "    }\n",
       "</style>\n",
       "<table border=\"1\" class=\"dataframe\">\n",
       "  <thead>\n",
       "    <tr style=\"text-align: right;\">\n",
       "      <th></th>\n",
       "      <th>Total_num_users</th>\n",
       "      <th>Total_num_A.plays</th>\n",
       "      <th>Avg_user_plays</th>\n",
       "    </tr>\n",
       "    <tr>\n",
       "      <th>name</th>\n",
       "      <th></th>\n",
       "      <th></th>\n",
       "      <th></th>\n",
       "    </tr>\n",
       "  </thead>\n",
       "  <tbody>\n",
       "    <tr>\n",
       "      <th>Britney Spears</th>\n",
       "      <td>522</td>\n",
       "      <td>2393140</td>\n",
       "      <td>4584.559387</td>\n",
       "    </tr>\n",
       "    <tr>\n",
       "      <th>Depeche Mode</th>\n",
       "      <td>282</td>\n",
       "      <td>1301308</td>\n",
       "      <td>4614.567376</td>\n",
       "    </tr>\n",
       "    <tr>\n",
       "      <th>Lady Gaga</th>\n",
       "      <td>611</td>\n",
       "      <td>1291387</td>\n",
       "      <td>2113.563011</td>\n",
       "    </tr>\n",
       "    <tr>\n",
       "      <th>Christina Aguilera</th>\n",
       "      <td>407</td>\n",
       "      <td>1058405</td>\n",
       "      <td>2600.503686</td>\n",
       "    </tr>\n",
       "    <tr>\n",
       "      <th>Paramore</th>\n",
       "      <td>399</td>\n",
       "      <td>963449</td>\n",
       "      <td>2414.659148</td>\n",
       "    </tr>\n",
       "    <tr>\n",
       "      <th>Madonna</th>\n",
       "      <td>429</td>\n",
       "      <td>921198</td>\n",
       "      <td>2147.314685</td>\n",
       "    </tr>\n",
       "    <tr>\n",
       "      <th>Rihanna</th>\n",
       "      <td>484</td>\n",
       "      <td>905423</td>\n",
       "      <td>1870.708678</td>\n",
       "    </tr>\n",
       "    <tr>\n",
       "      <th>Shakira</th>\n",
       "      <td>319</td>\n",
       "      <td>688529</td>\n",
       "      <td>2158.398119</td>\n",
       "    </tr>\n",
       "    <tr>\n",
       "      <th>The Beatles</th>\n",
       "      <td>480</td>\n",
       "      <td>662116</td>\n",
       "      <td>1379.408333</td>\n",
       "    </tr>\n",
       "    <tr>\n",
       "      <th>Katy Perry</th>\n",
       "      <td>473</td>\n",
       "      <td>532545</td>\n",
       "      <td>1125.887949</td>\n",
       "    </tr>\n",
       "  </tbody>\n",
       "</table>\n",
       "</div>"
      ],
      "text/plain": [
       "                    Total_num_users  Total_num_A.plays  Avg_user_plays\n",
       "name                                                                  \n",
       "Britney Spears                  522            2393140     4584.559387\n",
       "Depeche Mode                    282            1301308     4614.567376\n",
       "Lady Gaga                       611            1291387     2113.563011\n",
       "Christina Aguilera              407            1058405     2600.503686\n",
       "Paramore                        399             963449     2414.659148\n",
       "Madonna                         429             921198     2147.314685\n",
       "Rihanna                         484             905423     1870.708678\n",
       "Shakira                         319             688529     2158.398119\n",
       "The Beatles                     480             662116     1379.408333\n",
       "Katy Perry                      473             532545     1125.887949"
      ]
     },
     "execution_count": 236,
     "metadata": {},
     "output_type": "execute_result"
    }
   ],
   "source": [
    "#Ranking the Users in terms of Total number of plays\n",
    "rank_user = (ua_art.groupby(['userID']).agg({'name':'count','weight':'sum'}).\n",
    "    rename(columns={\"name\":'Total_num_artists',\"weight\":\"Total_num_U.plays\"}).\n",
    "            sort_values(['Total_num_U.plays'],ascending=False))\n",
    "\n",
    "#Description of Artists rank data\n",
    "rank_art.head(10)\n"
   ]
  },
  {
   "cell_type": "code",
   "execution_count": 237,
   "id": "3bf2fe07",
   "metadata": {},
   "outputs": [
    {
     "data": {
      "text/html": [
       "<div>\n",
       "<style scoped>\n",
       "    .dataframe tbody tr th:only-of-type {\n",
       "        vertical-align: middle;\n",
       "    }\n",
       "\n",
       "    .dataframe tbody tr th {\n",
       "        vertical-align: top;\n",
       "    }\n",
       "\n",
       "    .dataframe thead th {\n",
       "        text-align: right;\n",
       "    }\n",
       "</style>\n",
       "<table border=\"1\" class=\"dataframe\">\n",
       "  <thead>\n",
       "    <tr style=\"text-align: right;\">\n",
       "      <th></th>\n",
       "      <th>Total_num_users</th>\n",
       "      <th>Total_num_A.plays</th>\n",
       "      <th>Avg_user_plays</th>\n",
       "    </tr>\n",
       "    <tr>\n",
       "      <th>name</th>\n",
       "      <th></th>\n",
       "      <th></th>\n",
       "      <th></th>\n",
       "    </tr>\n",
       "  </thead>\n",
       "  <tbody>\n",
       "    <tr>\n",
       "      <th>Lady Gaga</th>\n",
       "      <td>611</td>\n",
       "      <td>1291387</td>\n",
       "      <td>2113.563011</td>\n",
       "    </tr>\n",
       "    <tr>\n",
       "      <th>Britney Spears</th>\n",
       "      <td>522</td>\n",
       "      <td>2393140</td>\n",
       "      <td>4584.559387</td>\n",
       "    </tr>\n",
       "    <tr>\n",
       "      <th>Rihanna</th>\n",
       "      <td>484</td>\n",
       "      <td>905423</td>\n",
       "      <td>1870.708678</td>\n",
       "    </tr>\n",
       "    <tr>\n",
       "      <th>The Beatles</th>\n",
       "      <td>480</td>\n",
       "      <td>662116</td>\n",
       "      <td>1379.408333</td>\n",
       "    </tr>\n",
       "    <tr>\n",
       "      <th>Katy Perry</th>\n",
       "      <td>473</td>\n",
       "      <td>532545</td>\n",
       "      <td>1125.887949</td>\n",
       "    </tr>\n",
       "  </tbody>\n",
       "</table>\n",
       "</div>"
      ],
      "text/plain": [
       "                Total_num_users  Total_num_A.plays  Avg_user_plays\n",
       "name                                                              \n",
       "Lady Gaga                   611            1291387     2113.563011\n",
       "Britney Spears              522            2393140     4584.559387\n",
       "Rihanna                     484             905423     1870.708678\n",
       "The Beatles                 480             662116     1379.408333\n",
       "Katy Perry                  473             532545     1125.887949"
      ]
     },
     "execution_count": 237,
     "metadata": {},
     "output_type": "execute_result"
    }
   ],
   "source": [
    "rank_art.sort_values(['Total_num_users'],ascending=False).head()"
   ]
  },
  {
   "cell_type": "code",
   "execution_count": 238,
   "id": "d847a9cb",
   "metadata": {},
   "outputs": [],
   "source": [
    "# to show values on plots\n",
    "import numpy as np\n",
    "\n",
    "# Reference\n",
    "# https://stackoverflow.com/questions/43214978/seaborn-barplot-displaying-values\n",
    "\n",
    "def show_values_on_bars(axs, h_v=\"v\", space=0.4):\n",
    "    def _show_on_single_plot(ax):\n",
    "        if h_v == \"v\":\n",
    "            for p in ax.patches:\n",
    "                _x = p.get_x() + p.get_width() / 2\n",
    "                _y = p.get_y() + p.get_height()\n",
    "                value = int(p.get_height())\n",
    "                ax.text(_x, _y, value, ha=\"center\") \n",
    "        elif h_v == \"h\":\n",
    "            for p in ax.patches:\n",
    "                _x = p.get_x() + p.get_width() + float(space)\n",
    "                _y = p.get_y() + p.get_height()\n",
    "                value = int(p.get_width())\n",
    "                ax.text(_x, _y, value, ha=\"left\")\n",
    "\n",
    "    if isinstance(axs, np.ndarray):\n",
    "        for idx, ax in np.ndenumerate(axs):\n",
    "            _show_on_single_plot(ax)\n",
    "    else:\n",
    "        _show_on_single_plot(axs)"
   ]
  },
  {
   "cell_type": "code",
   "execution_count": 241,
   "id": "90b21bba",
   "metadata": {},
   "outputs": [
    {
     "data": {
      "image/png": "[encoded data removed]",
      "text/plain": [
       "<Figure size 648x648 with 1 Axes>"
      ]
     },
     "metadata": {
      "needs_background": "light"
     },
     "output_type": "display_data"
    }
   ],
   "source": [
    "# Top 10 Artists with more users\n",
    "\n",
    "fig, ax = plt.subplots(figsize = (9,9))\n",
    "\n",
    "ra = rank_art.sort_values(['Total_num_users'],ascending=False).head(10)\n",
    "x = ra.index\n",
    "\n",
    "\n",
    "ax = sns.barplot(x=x, y= \"Total_num_users\", data = ra, palette =\"Spectral\", ci = None) \n",
    "\n",
    "plt.title('Top 10 Artists with more users', fontsize = 20)\n",
    "plt.xticks(rotation=45, ha='right')\n",
    "ax.set(xlabel='Artist Name', ylabel='Total Users Played')\n",
    "show_values_on_bars(ax)"
   ]
  },
  {
   "cell_type": "code",
   "execution_count": 242,
   "id": "e64a534c",
   "metadata": {},
   "outputs": [
    {
     "data": {
      "image/png": "[encoded data removed]",
      "text/plain": [
       "<Figure size 648x648 with 1 Axes>"
      ]
     },
     "metadata": {
      "needs_background": "light"
     },
     "output_type": "display_data"
    }
   ],
   "source": [
    "#Top 10 users in terms of total plays\n",
    "ra2 = rank_user.sort_values(['Total_num_U.plays'],ascending=False).head(10)\n",
    "\n",
    "fig, ax = plt.subplots(figsize = (9,9))\n",
    "\n",
    "ra2 = rank_user.sort_values(['Total_num_U.plays'],ascending=False).head(10)\n",
    "\n",
    "x = ra2.index\n",
    "\n",
    "\n",
    "ax = sns.barplot(x=x, y= \"Total_num_U.plays\", data = ra2, palette ='viridis', ci = None) \n",
    "\n",
    "plt.title('Top 10 users with total plays', fontsize = 20)\n",
    "plt.xticks(rotation=45, ha='right')\n",
    "ax.set(xlabel='UserID', ylabel='Plays per User')\n",
    "show_values_on_bars(ax)\n",
    "\n"
   ]
  },
  {
   "cell_type": "markdown",
   "id": "bb3d16ef",
   "metadata": {},
   "source": [
    "### Pre - Processing Dataframes"
   ]
  },
  {
   "cell_type": "markdown",
   "id": "f104616f",
   "metadata": {},
   "source": [
    "##### Converting Continuous variable into Categorical Variable"
   ]
  },
  {
   "cell_type": "code",
   "execution_count": 42,
   "id": "2c034b86",
   "metadata": {},
   "outputs": [],
   "source": [
    "# Creating a new \"weight\" categorical variable because the raw weight column was continuous\n",
    "\n",
    "ua['weight1'] = pd.qcut(ua['weight'], 10,\n",
    "                            labels = False)"
   ]
  },
  {
   "cell_type": "markdown",
   "id": "a12a93f7",
   "metadata": {},
   "source": [
    "##### Content BaseTable for content based"
   ]
  },
  {
   "cell_type": "code",
   "execution_count": 43,
   "id": "b32f90ca",
   "metadata": {},
   "outputs": [],
   "source": [
    "# Merging user_taggedartists and tags to create a basetable for content based recommendation\n",
    "\n",
    "content_data_0 = pd.merge(uta,tags,how=\"inner\",on='tagID')"
   ]
  },
  {
   "cell_type": "markdown",
   "id": "beb96d77",
   "metadata": {},
   "source": [
    "##### Checking if all the user ID and Artist ID are in user_artists (For Collaborative) and Content data (For Content Based)"
   ]
  },
  {
   "cell_type": "code",
   "execution_count": 44,
   "id": "2accf636",
   "metadata": {},
   "outputs": [
    {
     "name": "stdout",
     "output_type": "stream",
     "text": [
      "Number of unique userID in UTA (Content data) = 1892\n",
      "Number of unique userID in UA (user_artists) = 1892\n"
     ]
    }
   ],
   "source": [
    "print(\"Number of unique userID in UTA (Content data) = \" + str(content_data_0['userID'].nunique()))\n",
    "print(\"Number of unique userID in UA (user_artists) = \" + str(ua['userID'].nunique()))"
   ]
  },
  {
   "cell_type": "code",
   "execution_count": 45,
   "id": "25500220",
   "metadata": {},
   "outputs": [
    {
     "name": "stdout",
     "output_type": "stream",
     "text": [
      "Number of unique ArtistID in UTA (Content data) = 12523\n",
      "Number of unique ArtistID in UA (user_artists) = 17632\n"
     ]
    }
   ],
   "source": [
    "print(\"Number of unique ArtistID in UTA (Content data) = \" + str(content_data_0['artistID'].nunique()))\n",
    "print(\"Number of unique ArtistID in UA (user_artists) = \" + str(ua['artistID'].nunique()))"
   ]
  },
  {
   "cell_type": "markdown",
   "id": "3a21c2d1",
   "metadata": {},
   "source": [
    "##### Making sure all the missing Artist ID are present in the content data"
   ]
  },
  {
   "cell_type": "code",
   "execution_count": 46,
   "id": "cbb1c1ff",
   "metadata": {},
   "outputs": [
    {
     "data": {
      "text/html": [
       "<div>\n",
       "<style scoped>\n",
       "    .dataframe tbody tr th:only-of-type {\n",
       "        vertical-align: middle;\n",
       "    }\n",
       "\n",
       "    .dataframe tbody tr th {\n",
       "        vertical-align: top;\n",
       "    }\n",
       "\n",
       "    .dataframe thead th {\n",
       "        text-align: right;\n",
       "    }\n",
       "</style>\n",
       "<table border=\"1\" class=\"dataframe\">\n",
       "  <thead>\n",
       "    <tr style=\"text-align: right;\">\n",
       "      <th></th>\n",
       "      <th>userID</th>\n",
       "      <th>artistID</th>\n",
       "      <th>tagID</th>\n",
       "      <th>day</th>\n",
       "      <th>month</th>\n",
       "      <th>year</th>\n",
       "      <th>tagValue</th>\n",
       "    </tr>\n",
       "  </thead>\n",
       "  <tbody>\n",
       "    <tr>\n",
       "      <th>0</th>\n",
       "      <td>2</td>\n",
       "      <td>52</td>\n",
       "      <td>13</td>\n",
       "      <td>1</td>\n",
       "      <td>4</td>\n",
       "      <td>2009</td>\n",
       "      <td>chillout</td>\n",
       "    </tr>\n",
       "    <tr>\n",
       "      <th>1</th>\n",
       "      <td>2</td>\n",
       "      <td>63</td>\n",
       "      <td>13</td>\n",
       "      <td>1</td>\n",
       "      <td>4</td>\n",
       "      <td>2009</td>\n",
       "      <td>chillout</td>\n",
       "    </tr>\n",
       "  </tbody>\n",
       "</table>\n",
       "</div>"
      ],
      "text/plain": [
       "   userID  artistID  tagID  day  month  year  tagValue\n",
       "0       2        52     13    1      4  2009  chillout\n",
       "1       2        63     13    1      4  2009  chillout"
      ]
     },
     "execution_count": 46,
     "metadata": {},
     "output_type": "execute_result"
    }
   ],
   "source": [
    "content_data_0.head(2)"
   ]
  },
  {
   "cell_type": "code",
   "execution_count": 47,
   "id": "04dd0861",
   "metadata": {},
   "outputs": [],
   "source": [
    "# Creating a dummy Dataframe so we could do an outer join to fill the missing artist ID\n",
    "\n",
    "dat1 = pd.DataFrame(ua['artistID'].drop_duplicates())\n",
    "\n",
    "content_data = pd.merge(content_data_0,dat1,on=\"artistID\",how=\"right\")"
   ]
  },
  {
   "cell_type": "code",
   "execution_count": 48,
   "id": "745aeeb4",
   "metadata": {},
   "outputs": [
    {
     "name": "stdout",
     "output_type": "stream",
     "text": [
      "Number of unique ArtistID in UTA (Content data) = 17632\n",
      "Number of unique ArtistID in UA (user_artists) = 17632\n"
     ]
    }
   ],
   "source": [
    "print(\"Number of unique ArtistID in UTA (Content data) = \" + str(content_data['artistID'].nunique()))\n",
    "print(\"Number of unique ArtistID in UA (user_artists) = \" + str(ua['artistID'].nunique()))"
   ]
  },
  {
   "cell_type": "markdown",
   "id": "a863a10c",
   "metadata": {},
   "source": [
    "##### Checking and cleaning NA values in the tags column which will be the content data"
   ]
  },
  {
   "cell_type": "code",
   "execution_count": 49,
   "id": "6ff41a7f",
   "metadata": {},
   "outputs": [
    {
     "data": {
      "text/plain": [
       "5499"
      ]
     },
     "execution_count": 49,
     "metadata": {},
     "output_type": "execute_result"
    }
   ],
   "source": [
    "content_data['tagValue'].isna().sum()"
   ]
  },
  {
   "cell_type": "code",
   "execution_count": 50,
   "id": "86209445",
   "metadata": {},
   "outputs": [],
   "source": [
    "# Filling the NA values with a dummy string that will be removed as a stopword later in the content data preprocessing step\n",
    "\n",
    "content_data[\"tagValue\"] = content_data[\"tagValue\"].fillna(\"a\")"
   ]
  },
  {
   "cell_type": "markdown",
   "id": "0d8e3247",
   "metadata": {},
   "source": [
    "##### Creating one row per artist by merging all tags for an artist"
   ]
  },
  {
   "cell_type": "code",
   "execution_count": 51,
   "id": "5a211dfb",
   "metadata": {},
   "outputs": [],
   "source": [
    "content_data = content_data.groupby(['artistID','tagValue']).nth(0)\n",
    "content_data = content_data.reset_index()\n",
    "content_data['tag_value'] = content_data.groupby(['artistID'])['tagValue'].transform(lambda x : ' '.join(x))\n",
    "content_data = content_data.groupby(['artistID', 'tag_value']).first().reset_index(drop = False)"
   ]
  },
  {
   "cell_type": "code",
   "execution_count": 52,
   "id": "799c8893",
   "metadata": {},
   "outputs": [
    {
     "data": {
      "text/html": [
       "<div>\n",
       "<style scoped>\n",
       "    .dataframe tbody tr th:only-of-type {\n",
       "        vertical-align: middle;\n",
       "    }\n",
       "\n",
       "    .dataframe tbody tr th {\n",
       "        vertical-align: top;\n",
       "    }\n",
       "\n",
       "    .dataframe thead th {\n",
       "        text-align: right;\n",
       "    }\n",
       "</style>\n",
       "<table border=\"1\" class=\"dataframe\">\n",
       "  <thead>\n",
       "    <tr style=\"text-align: right;\">\n",
       "      <th></th>\n",
       "      <th>artistID</th>\n",
       "      <th>tag_value</th>\n",
       "      <th>tagValue</th>\n",
       "      <th>userID</th>\n",
       "      <th>tagID</th>\n",
       "      <th>day</th>\n",
       "      <th>month</th>\n",
       "      <th>year</th>\n",
       "    </tr>\n",
       "  </thead>\n",
       "  <tbody>\n",
       "    <tr>\n",
       "      <th>0</th>\n",
       "      <td>1</td>\n",
       "      <td>better than lady gaga gothic j-rock japanese j...</td>\n",
       "      <td>better than lady gaga</td>\n",
       "      <td>785.0</td>\n",
       "      <td>2850.0</td>\n",
       "      <td>1.0</td>\n",
       "      <td>8.0</td>\n",
       "      <td>2010.0</td>\n",
       "    </tr>\n",
       "    <tr>\n",
       "      <th>1</th>\n",
       "      <td>2</td>\n",
       "      <td>ambient dark darkwave electronic german gothic...</td>\n",
       "      <td>ambient</td>\n",
       "      <td>697.0</td>\n",
       "      <td>14.0</td>\n",
       "      <td>1.0</td>\n",
       "      <td>10.0</td>\n",
       "      <td>2007.0</td>\n",
       "    </tr>\n",
       "  </tbody>\n",
       "</table>\n",
       "</div>"
      ],
      "text/plain": [
       "   artistID                                          tag_value  \\\n",
       "0         1  better than lady gaga gothic j-rock japanese j...   \n",
       "1         2  ambient dark darkwave electronic german gothic...   \n",
       "\n",
       "                tagValue  userID   tagID  day  month    year  \n",
       "0  better than lady gaga   785.0  2850.0  1.0    8.0  2010.0  \n",
       "1                ambient   697.0    14.0  1.0   10.0  2007.0  "
      ]
     },
     "execution_count": 52,
     "metadata": {},
     "output_type": "execute_result"
    }
   ],
   "source": [
    "content_data.head(2)"
   ]
  },
  {
   "cell_type": "code",
   "execution_count": 53,
   "id": "27ffd5a4",
   "metadata": {
    "scrolled": true
   },
   "outputs": [],
   "source": [
    "content_data = content_data[['artistID','tag_value']]\n",
    "content_data = content_data.set_index('artistID')"
   ]
  },
  {
   "cell_type": "markdown",
   "id": "a7bd6384",
   "metadata": {},
   "source": [
    "##### creatoing one common table to predict recommendations in the last section"
   ]
  },
  {
   "cell_type": "code",
   "execution_count": 54,
   "id": "bc142820",
   "metadata": {},
   "outputs": [],
   "source": [
    "#rename the column so it has artist ID which is same as \n",
    "\n",
    "artists = artists.rename(columns={\"id\":\"artistID\"})"
   ]
  },
  {
   "cell_type": "code",
   "execution_count": 55,
   "id": "f806ac51",
   "metadata": {},
   "outputs": [],
   "source": [
    "# Merging user_taggedartists and artists\n",
    "\n",
    "final = pd.merge(ua, artists, how='left', on='artistID')\n",
    "final = pd.merge(content_data,artists, how='left', on='artistID')"
   ]
  },
  {
   "cell_type": "code",
   "execution_count": 56,
   "id": "2d936ecc",
   "metadata": {},
   "outputs": [
    {
     "data": {
      "text/html": [
       "<div>\n",
       "<style scoped>\n",
       "    .dataframe tbody tr th:only-of-type {\n",
       "        vertical-align: middle;\n",
       "    }\n",
       "\n",
       "    .dataframe tbody tr th {\n",
       "        vertical-align: top;\n",
       "    }\n",
       "\n",
       "    .dataframe thead th {\n",
       "        text-align: right;\n",
       "    }\n",
       "</style>\n",
       "<table border=\"1\" class=\"dataframe\">\n",
       "  <thead>\n",
       "    <tr style=\"text-align: right;\">\n",
       "      <th></th>\n",
       "      <th>artistID</th>\n",
       "      <th>tag_value</th>\n",
       "      <th>name</th>\n",
       "      <th>url</th>\n",
       "      <th>pictureURL</th>\n",
       "    </tr>\n",
       "  </thead>\n",
       "  <tbody>\n",
       "    <tr>\n",
       "      <th>0</th>\n",
       "      <td>1</td>\n",
       "      <td>better than lady gaga gothic j-rock japanese j...</td>\n",
       "      <td>MALICE MIZER</td>\n",
       "      <td>http://www.last.fm/music/MALICE+MIZER</td>\n",
       "      <td>http://userserve-ak.last.fm/serve/252/10808.jpg</td>\n",
       "    </tr>\n",
       "    <tr>\n",
       "      <th>1</th>\n",
       "      <td>2</td>\n",
       "      <td>ambient dark darkwave electronic german gothic...</td>\n",
       "      <td>Diary of Dreams</td>\n",
       "      <td>http://www.last.fm/music/Diary+of+Dreams</td>\n",
       "      <td>http://userserve-ak.last.fm/serve/252/3052066.jpg</td>\n",
       "    </tr>\n",
       "  </tbody>\n",
       "</table>\n",
       "</div>"
      ],
      "text/plain": [
       "   artistID                                          tag_value  \\\n",
       "0         1  better than lady gaga gothic j-rock japanese j...   \n",
       "1         2  ambient dark darkwave electronic german gothic...   \n",
       "\n",
       "              name                                       url  \\\n",
       "0     MALICE MIZER     http://www.last.fm/music/MALICE+MIZER   \n",
       "1  Diary of Dreams  http://www.last.fm/music/Diary+of+Dreams   \n",
       "\n",
       "                                          pictureURL  \n",
       "0    http://userserve-ak.last.fm/serve/252/10808.jpg  \n",
       "1  http://userserve-ak.last.fm/serve/252/3052066.jpg  "
      ]
     },
     "execution_count": 56,
     "metadata": {},
     "output_type": "execute_result"
    }
   ],
   "source": [
    "final.head(2)"
   ]
  },
  {
   "cell_type": "code",
   "execution_count": 57,
   "id": "c450f3ac",
   "metadata": {},
   "outputs": [
    {
     "data": {
      "text/html": [
       "<div>\n",
       "<style scoped>\n",
       "    .dataframe tbody tr th:only-of-type {\n",
       "        vertical-align: middle;\n",
       "    }\n",
       "\n",
       "    .dataframe tbody tr th {\n",
       "        vertical-align: top;\n",
       "    }\n",
       "\n",
       "    .dataframe thead th {\n",
       "        text-align: right;\n",
       "    }\n",
       "</style>\n",
       "<table border=\"1\" class=\"dataframe\">\n",
       "  <thead>\n",
       "    <tr style=\"text-align: right;\">\n",
       "      <th></th>\n",
       "      <th>tag_value</th>\n",
       "      <th>name</th>\n",
       "      <th>url</th>\n",
       "      <th>pictureURL</th>\n",
       "    </tr>\n",
       "    <tr>\n",
       "      <th>artistID</th>\n",
       "      <th></th>\n",
       "      <th></th>\n",
       "      <th></th>\n",
       "      <th></th>\n",
       "    </tr>\n",
       "  </thead>\n",
       "  <tbody>\n",
       "    <tr>\n",
       "      <th>1</th>\n",
       "      <td>better than lady gaga gothic j-rock japanese j...</td>\n",
       "      <td>MALICE MIZER</td>\n",
       "      <td>http://www.last.fm/music/MALICE+MIZER</td>\n",
       "      <td>http://userserve-ak.last.fm/serve/252/10808.jpg</td>\n",
       "    </tr>\n",
       "    <tr>\n",
       "      <th>2</th>\n",
       "      <td>ambient dark darkwave electronic german gothic...</td>\n",
       "      <td>Diary of Dreams</td>\n",
       "      <td>http://www.last.fm/music/Diary+of+Dreams</td>\n",
       "      <td>http://userserve-ak.last.fm/serve/252/3052066.jpg</td>\n",
       "    </tr>\n",
       "  </tbody>\n",
       "</table>\n",
       "</div>"
      ],
      "text/plain": [
       "                                                  tag_value             name  \\\n",
       "artistID                                                                       \n",
       "1         better than lady gaga gothic j-rock japanese j...     MALICE MIZER   \n",
       "2         ambient dark darkwave electronic german gothic...  Diary of Dreams   \n",
       "\n",
       "                                               url  \\\n",
       "artistID                                             \n",
       "1            http://www.last.fm/music/MALICE+MIZER   \n",
       "2         http://www.last.fm/music/Diary+of+Dreams   \n",
       "\n",
       "                                                 pictureURL  \n",
       "artistID                                                     \n",
       "1           http://userserve-ak.last.fm/serve/252/10808.jpg  \n",
       "2         http://userserve-ak.last.fm/serve/252/3052066.jpg  "
      ]
     },
     "execution_count": 57,
     "metadata": {},
     "output_type": "execute_result"
    }
   ],
   "source": [
    "# Created the lookup table for the final predictions. \n",
    "\n",
    "lookup_artistID = final.drop_duplicates(subset=[\"artistID\"], keep=\"last\").set_index(\"artistID\")\n",
    "lookup_artistID = lookup_artistID.reset_index()\n",
    "lookup_artistID.head(2)"
   ]
  },
  {
   "cell_type": "markdown",
   "id": "c0187953",
   "metadata": {},
   "source": [
    "##### Preprocessing Content Data before fitting the model"
   ]
  },
  {
   "cell_type": "code",
   "execution_count": 58,
   "id": "ebb72840",
   "metadata": {},
   "outputs": [
    {
     "name": "stdout",
     "output_type": "stream",
     "text": [
      "(17632, 6405)\n"
     ]
    },
    {
     "name": "stderr",
     "output_type": "stream",
     "text": [
      "C:\\tools\\Anaconda3\\lib\\site-packages\\sklearn\\utils\\deprecation.py:87: FutureWarning: Function get_feature_names is deprecated; get_feature_names is deprecated in 1.0 and will be removed in 1.2. Please use get_feature_names_out instead.\n",
      "  warnings.warn(msg, category=FutureWarning)\n"
     ]
    },
    {
     "data": {
      "text/html": [
       "<div>\n",
       "<style scoped>\n",
       "    .dataframe tbody tr th:only-of-type {\n",
       "        vertical-align: middle;\n",
       "    }\n",
       "\n",
       "    .dataframe tbody tr th {\n",
       "        vertical-align: top;\n",
       "    }\n",
       "\n",
       "    .dataframe thead th {\n",
       "        text-align: right;\n",
       "    }\n",
       "</style>\n",
       "<table border=\"1\" class=\"dataframe\">\n",
       "  <thead>\n",
       "    <tr style=\"text-align: right;\">\n",
       "      <th></th>\n",
       "      <th>aaaaa</th>\n",
       "      <th>aaliyah</th>\n",
       "      <th>aana</th>\n",
       "      <th>aaron</th>\n",
       "      <th>abba</th>\n",
       "      <th>abdul</th>\n",
       "      <th>abel</th>\n",
       "      <th>abelha</th>\n",
       "      <th>aberdeen</th>\n",
       "      <th>abi</th>\n",
       "      <th>...</th>\n",
       "      <th>zmiel</th>\n",
       "      <th>zmierzch</th>\n",
       "      <th>zombi</th>\n",
       "      <th>zombieland</th>\n",
       "      <th>zone</th>\n",
       "      <th>zoocor</th>\n",
       "      <th>zooey</th>\n",
       "      <th>zorn</th>\n",
       "      <th>zornish</th>\n",
       "      <th>ztt</th>\n",
       "    </tr>\n",
       "    <tr>\n",
       "      <th>artistID</th>\n",
       "      <th></th>\n",
       "      <th></th>\n",
       "      <th></th>\n",
       "      <th></th>\n",
       "      <th></th>\n",
       "      <th></th>\n",
       "      <th></th>\n",
       "      <th></th>\n",
       "      <th></th>\n",
       "      <th></th>\n",
       "      <th></th>\n",
       "      <th></th>\n",
       "      <th></th>\n",
       "      <th></th>\n",
       "      <th></th>\n",
       "      <th></th>\n",
       "      <th></th>\n",
       "      <th></th>\n",
       "      <th></th>\n",
       "      <th></th>\n",
       "      <th></th>\n",
       "    </tr>\n",
       "  </thead>\n",
       "  <tbody>\n",
       "    <tr>\n",
       "      <th>1</th>\n",
       "      <td>0.0</td>\n",
       "      <td>0.0</td>\n",
       "      <td>0.0</td>\n",
       "      <td>0.0</td>\n",
       "      <td>0.0</td>\n",
       "      <td>0.0</td>\n",
       "      <td>0.0</td>\n",
       "      <td>0.0</td>\n",
       "      <td>0.0</td>\n",
       "      <td>0.0</td>\n",
       "      <td>...</td>\n",
       "      <td>0.0</td>\n",
       "      <td>0.0</td>\n",
       "      <td>0.0</td>\n",
       "      <td>0.0</td>\n",
       "      <td>0.0</td>\n",
       "      <td>0.0</td>\n",
       "      <td>0.0</td>\n",
       "      <td>0.0</td>\n",
       "      <td>0.0</td>\n",
       "      <td>0.0</td>\n",
       "    </tr>\n",
       "    <tr>\n",
       "      <th>2</th>\n",
       "      <td>0.0</td>\n",
       "      <td>0.0</td>\n",
       "      <td>0.0</td>\n",
       "      <td>0.0</td>\n",
       "      <td>0.0</td>\n",
       "      <td>0.0</td>\n",
       "      <td>0.0</td>\n",
       "      <td>0.0</td>\n",
       "      <td>0.0</td>\n",
       "      <td>0.0</td>\n",
       "      <td>...</td>\n",
       "      <td>0.0</td>\n",
       "      <td>0.0</td>\n",
       "      <td>0.0</td>\n",
       "      <td>0.0</td>\n",
       "      <td>0.0</td>\n",
       "      <td>0.0</td>\n",
       "      <td>0.0</td>\n",
       "      <td>0.0</td>\n",
       "      <td>0.0</td>\n",
       "      <td>0.0</td>\n",
       "    </tr>\n",
       "    <tr>\n",
       "      <th>3</th>\n",
       "      <td>0.0</td>\n",
       "      <td>0.0</td>\n",
       "      <td>0.0</td>\n",
       "      <td>0.0</td>\n",
       "      <td>0.0</td>\n",
       "      <td>0.0</td>\n",
       "      <td>0.0</td>\n",
       "      <td>0.0</td>\n",
       "      <td>0.0</td>\n",
       "      <td>0.0</td>\n",
       "      <td>...</td>\n",
       "      <td>0.0</td>\n",
       "      <td>0.0</td>\n",
       "      <td>0.0</td>\n",
       "      <td>0.0</td>\n",
       "      <td>0.0</td>\n",
       "      <td>0.0</td>\n",
       "      <td>0.0</td>\n",
       "      <td>0.0</td>\n",
       "      <td>0.0</td>\n",
       "      <td>0.0</td>\n",
       "    </tr>\n",
       "    <tr>\n",
       "      <th>4</th>\n",
       "      <td>0.0</td>\n",
       "      <td>0.0</td>\n",
       "      <td>0.0</td>\n",
       "      <td>0.0</td>\n",
       "      <td>0.0</td>\n",
       "      <td>0.0</td>\n",
       "      <td>0.0</td>\n",
       "      <td>0.0</td>\n",
       "      <td>0.0</td>\n",
       "      <td>0.0</td>\n",
       "      <td>...</td>\n",
       "      <td>0.0</td>\n",
       "      <td>0.0</td>\n",
       "      <td>0.0</td>\n",
       "      <td>0.0</td>\n",
       "      <td>0.0</td>\n",
       "      <td>0.0</td>\n",
       "      <td>0.0</td>\n",
       "      <td>0.0</td>\n",
       "      <td>0.0</td>\n",
       "      <td>0.0</td>\n",
       "    </tr>\n",
       "    <tr>\n",
       "      <th>5</th>\n",
       "      <td>0.0</td>\n",
       "      <td>0.0</td>\n",
       "      <td>0.0</td>\n",
       "      <td>0.0</td>\n",
       "      <td>0.0</td>\n",
       "      <td>0.0</td>\n",
       "      <td>0.0</td>\n",
       "      <td>0.0</td>\n",
       "      <td>0.0</td>\n",
       "      <td>0.0</td>\n",
       "      <td>...</td>\n",
       "      <td>0.0</td>\n",
       "      <td>0.0</td>\n",
       "      <td>0.0</td>\n",
       "      <td>0.0</td>\n",
       "      <td>0.0</td>\n",
       "      <td>0.0</td>\n",
       "      <td>0.0</td>\n",
       "      <td>0.0</td>\n",
       "      <td>0.0</td>\n",
       "      <td>0.0</td>\n",
       "    </tr>\n",
       "  </tbody>\n",
       "</table>\n",
       "<p>5 rows × 6405 columns</p>\n",
       "</div>"
      ],
      "text/plain": [
       "          aaaaa  aaliyah  aana  aaron  abba  abdul  abel  abelha  aberdeen  \\\n",
       "artistID                                                                     \n",
       "1           0.0      0.0   0.0    0.0   0.0    0.0   0.0     0.0       0.0   \n",
       "2           0.0      0.0   0.0    0.0   0.0    0.0   0.0     0.0       0.0   \n",
       "3           0.0      0.0   0.0    0.0   0.0    0.0   0.0     0.0       0.0   \n",
       "4           0.0      0.0   0.0    0.0   0.0    0.0   0.0     0.0       0.0   \n",
       "5           0.0      0.0   0.0    0.0   0.0    0.0   0.0     0.0       0.0   \n",
       "\n",
       "          abi  ...  zmiel  zmierzch  zombi  zombieland  zone  zoocor  zooey  \\\n",
       "artistID       ...                                                            \n",
       "1         0.0  ...    0.0       0.0    0.0         0.0   0.0     0.0    0.0   \n",
       "2         0.0  ...    0.0       0.0    0.0         0.0   0.0     0.0    0.0   \n",
       "3         0.0  ...    0.0       0.0    0.0         0.0   0.0     0.0    0.0   \n",
       "4         0.0  ...    0.0       0.0    0.0         0.0   0.0     0.0    0.0   \n",
       "5         0.0  ...    0.0       0.0    0.0         0.0   0.0     0.0    0.0   \n",
       "\n",
       "          zorn  zornish  ztt  \n",
       "artistID                      \n",
       "1          0.0      0.0  0.0  \n",
       "2          0.0      0.0  0.0  \n",
       "3          0.0      0.0  0.0  \n",
       "4          0.0      0.0  0.0  \n",
       "5          0.0      0.0  0.0  \n",
       "\n",
       "[5 rows x 6405 columns]"
      ]
     },
     "execution_count": 58,
     "metadata": {},
     "output_type": "execute_result"
    }
   ],
   "source": [
    "# content based\n",
    "\n",
    "# Tokenize, case conversion & only alphabetic\n",
    "\n",
    "token = content_data['tag_value'].apply(lambda txt: [word.lower() for word in word_tokenize(str(txt)) if word.isalpha()])\n",
    "\n",
    "# setup stop words list\n",
    "\n",
    "stop_words = stopwords.words('english')\n",
    "stop_words.append('nan')\n",
    "stemmer = SnowballStemmer(\"english\")\n",
    "\n",
    "# remove stopwords, stem\n",
    "\n",
    "token_stem = token.apply(lambda lst_token: [stemmer.stem(tok) for tok in lst_token if tok not in stop_words and len(tok) > 2])\n",
    "\n",
    "# TFIDF vectorizer\n",
    "tfidf = TfidfVectorizer()\n",
    "\n",
    "# apply tf-idf vectorizer -> document-term-matrix in sparse format\n",
    "dtm = tfidf.fit_transform([\" \".join(x) for x in token_stem])\n",
    "\n",
    "print(dtm.shape)\n",
    "\n",
    "df_dtm = pd.DataFrame(dtm.toarray(), columns=tfidf.get_feature_names(), index=content_data.index)\n",
    "df_dtm.head()"
   ]
  },
  {
   "cell_type": "markdown",
   "id": "ba6bb2e5",
   "metadata": {},
   "source": [
    "# EDA"
   ]
  },
  {
   "cell_type": "code",
   "execution_count": null,
   "id": "d0ae1ac8",
   "metadata": {},
   "outputs": [],
   "source": []
  },
  {
   "cell_type": "code",
   "execution_count": null,
   "id": "210913c0",
   "metadata": {},
   "outputs": [],
   "source": []
  },
  {
   "cell_type": "code",
   "execution_count": null,
   "id": "474c2666",
   "metadata": {},
   "outputs": [],
   "source": []
  },
  {
   "cell_type": "markdown",
   "id": "5e23f1eb",
   "metadata": {},
   "source": [
    "### Train - Test Split"
   ]
  },
  {
   "cell_type": "code",
   "execution_count": 147,
   "id": "c82db666",
   "metadata": {},
   "outputs": [
    {
     "name": "stdout",
     "output_type": "stream",
     "text": [
      "Shape of Train dataset is (64983, 3)\n",
      "Shape of Test dataset is (13925, 3)\n",
      "Shape of Evaluation dataset is (13926, 3)\n"
     ]
    }
   ],
   "source": [
    "# using only the required columns to train the data model\n",
    "user_artists_1 = ua[[\"userID\",\"artistID\",\"weight1\"]]\n",
    "\n",
    "# train-test split\n",
    "train, test1 = train_test_split(user_artists_1, test_size=0.30, random_state=42)\n",
    "\n",
    "# further splitting test to have an evaluation dataset for linear regression and random forest\n",
    "test, evaluation = train_test_split(test1, test_size=0.50, random_state=42)\n",
    "\n",
    "# reset index\n",
    "train = train.reset_index(drop=True)\n",
    "test = test.reset_index(drop=True)\n",
    "evaluation = evaluation.reset_index(drop=True)\n",
    "\n",
    "print(\"Shape of Train dataset is \" + str(train.shape))\n",
    "print(\"Shape of Test dataset is \" + str(test.shape))\n",
    "print(\"Shape of Evaluation dataset is \" + str(evaluation.shape))"
   ]
  },
  {
   "cell_type": "code",
   "execution_count": 148,
   "id": "88f4f166",
   "metadata": {},
   "outputs": [],
   "source": [
    "##### Converting test and train to surprise format\n",
    "\n",
    "from surprise import Dataset, Reader\n",
    "\n",
    "reader = Reader(rating_scale=(0, 9))\n",
    "df_train = Dataset.load_from_df(train, reader).build_full_trainset()\n",
    "df_test = list(test.itertuples(index=False, name=None))\n",
    "df_evaluation = list(evaluation.itertuples(index=False, name=None))\n",
    "\n",
    "df_auto = Dataset.load_from_df(train, reader)"
   ]
  },
  {
   "cell_type": "markdown",
   "id": "ecf24b4d",
   "metadata": {},
   "source": [
    "## Building Recommendation Algorithms"
   ]
  },
  {
   "cell_type": "markdown",
   "id": "0e3231fb",
   "metadata": {},
   "source": [
    "#### Cross Validation for Collaborative Filtering Algorithms"
   ]
  },
  {
   "cell_type": "code",
   "execution_count": 91,
   "id": "d7a7d244",
   "metadata": {},
   "outputs": [
    {
     "name": "stdout",
     "output_type": "stream",
     "text": [
      "Estimating biases using als...\n",
      "Computing the msd similarity matrix...\n",
      "Done computing similarity matrix.\n",
      "Estimating biases using als...\n",
      "Computing the msd similarity matrix...\n",
      "Done computing similarity matrix.\n",
      "Estimating biases using als...\n",
      "Computing the msd similarity matrix...\n",
      "Done computing similarity matrix.\n",
      "Computing the msd similarity matrix...\n",
      "Done computing similarity matrix.\n",
      "Computing the msd similarity matrix...\n",
      "Done computing similarity matrix.\n",
      "Computing the msd similarity matrix...\n",
      "Done computing similarity matrix.\n",
      "Estimating biases using als...\n",
      "Estimating biases using als...\n",
      "Estimating biases using als...\n"
     ]
    }
   ],
   "source": [
    "crossvalidation = []\n",
    "models = [KNNBaseline(),KNNBasic(),BaselineOnly(),SVD(),SVDpp(),CoClustering()]\n",
    "\n",
    "for i in models:\n",
    "    results = cross_validate(i, df_auto, measures=['RMSE','MAE'], cv=3, verbose=False)    \n",
    "    results_df = pd.DataFrame.from_dict(results).mean(axis=0)\n",
    "    results_df = results_df.append(pd.Series([str(i).split(' ')[0].split('.')[-1]], index=['Algorithm']))\n",
    "    crossvalidation.append(results_df)"
   ]
  },
  {
   "cell_type": "code",
   "execution_count": 92,
   "id": "9006c7c7",
   "metadata": {},
   "outputs": [
    {
     "data": {
      "text/html": [
       "<div>\n",
       "<style scoped>\n",
       "    .dataframe tbody tr th:only-of-type {\n",
       "        vertical-align: middle;\n",
       "    }\n",
       "\n",
       "    .dataframe tbody tr th {\n",
       "        vertical-align: top;\n",
       "    }\n",
       "\n",
       "    .dataframe thead th {\n",
       "        text-align: right;\n",
       "    }\n",
       "</style>\n",
       "<table border=\"1\" class=\"dataframe\">\n",
       "  <thead>\n",
       "    <tr style=\"text-align: right;\">\n",
       "      <th></th>\n",
       "      <th>Algorithm</th>\n",
       "      <th>test_rmse</th>\n",
       "      <th>test_mae</th>\n",
       "    </tr>\n",
       "  </thead>\n",
       "  <tbody>\n",
       "    <tr>\n",
       "      <th>3</th>\n",
       "      <td>SVD</td>\n",
       "      <td>1.747679</td>\n",
       "      <td>1.397843</td>\n",
       "    </tr>\n",
       "    <tr>\n",
       "      <th>4</th>\n",
       "      <td>SVDpp</td>\n",
       "      <td>1.756474</td>\n",
       "      <td>1.358828</td>\n",
       "    </tr>\n",
       "    <tr>\n",
       "      <th>2</th>\n",
       "      <td>BaselineOnly</td>\n",
       "      <td>1.895470</td>\n",
       "      <td>1.597255</td>\n",
       "    </tr>\n",
       "    <tr>\n",
       "      <th>0</th>\n",
       "      <td>KNNBaseline</td>\n",
       "      <td>1.953434</td>\n",
       "      <td>1.577046</td>\n",
       "    </tr>\n",
       "    <tr>\n",
       "      <th>5</th>\n",
       "      <td>CoClustering</td>\n",
       "      <td>2.139262</td>\n",
       "      <td>1.669887</td>\n",
       "    </tr>\n",
       "    <tr>\n",
       "      <th>1</th>\n",
       "      <td>KNNBasic</td>\n",
       "      <td>2.654020</td>\n",
       "      <td>2.168501</td>\n",
       "    </tr>\n",
       "  </tbody>\n",
       "</table>\n",
       "</div>"
      ],
      "text/plain": [
       "      Algorithm  test_rmse  test_mae\n",
       "3           SVD   1.747679  1.397843\n",
       "4         SVDpp   1.756474  1.358828\n",
       "2  BaselineOnly   1.895470  1.597255\n",
       "0   KNNBaseline   1.953434  1.577046\n",
       "5  CoClustering   2.139262  1.669887\n",
       "1      KNNBasic   2.654020  2.168501"
      ]
     },
     "execution_count": 92,
     "metadata": {},
     "output_type": "execute_result"
    }
   ],
   "source": [
    "cv_results = pd.DataFrame(crossvalidation).sort_values('test_rmse')\n",
    "cv_results = cv_results[['Algorithm','test_rmse','test_mae']]\n",
    "cv_results "
   ]
  },
  {
   "cell_type": "markdown",
   "id": "0e9838bd",
   "metadata": {},
   "source": [
    "### Content Based Filtering"
   ]
  },
  {
   "cell_type": "code",
   "execution_count": 138,
   "id": "391a09fd",
   "metadata": {},
   "outputs": [
    {
     "name": "stderr",
     "output_type": "stream",
     "text": [
      "../IESEGRecSys/IESEGRecSys\\model.py:72: RuntimeWarning: invalid value encountered in true_divide\n",
      "  self.prediction = (np.matmul(df_pivot.values, self.matrixNN) / denom) + self.user_avg[:,np.newaxis]\n"
     ]
    },
    {
     "data": {
      "text/html": [
       "<div>\n",
       "<style scoped>\n",
       "    .dataframe tbody tr th:only-of-type {\n",
       "        vertical-align: middle;\n",
       "    }\n",
       "\n",
       "    .dataframe tbody tr th {\n",
       "        vertical-align: top;\n",
       "    }\n",
       "\n",
       "    .dataframe thead th {\n",
       "        text-align: right;\n",
       "    }\n",
       "</style>\n",
       "<table border=\"1\" class=\"dataframe\">\n",
       "  <thead>\n",
       "    <tr style=\"text-align: right;\">\n",
       "      <th></th>\n",
       "      <th>CB_5</th>\n",
       "    </tr>\n",
       "  </thead>\n",
       "  <tbody>\n",
       "    <tr>\n",
       "      <th>RMSE</th>\n",
       "      <td>1.829133</td>\n",
       "    </tr>\n",
       "    <tr>\n",
       "      <th>MAE</th>\n",
       "      <td>1.387706</td>\n",
       "    </tr>\n",
       "  </tbody>\n",
       "</table>\n",
       "</div>"
      ],
      "text/plain": [
       "          CB_5\n",
       "RMSE  1.829133\n",
       "MAE   1.387706"
      ]
     },
     "execution_count": 138,
     "metadata": {},
     "output_type": "execute_result"
    }
   ],
   "source": [
    "# content-based\n",
    "\n",
    "cb = ContentBased(NN=40)\n",
    "cb.fit(df_dtm)\n",
    "cb.fit_ratings(df_train)\n",
    "cb_pred = cb.test(df_test)\n",
    "\n",
    "models = {\"CB_5\":cb_pred}\n",
    "overview2 = pd.concat([eval.prediction_metrics(pred) for pred in models.values()], axis=1)\n",
    "overview2.columns = list(models.keys())\n",
    "overview2"
   ]
  },
  {
   "cell_type": "markdown",
   "id": "a7c33ee8",
   "metadata": {},
   "source": [
    "### ALS (BaselineOnly)"
   ]
  },
  {
   "cell_type": "markdown",
   "id": "dae4390e",
   "metadata": {},
   "source": [
    "###### Parameter Tuning using GridSearchCV"
   ]
  },
  {
   "cell_type": "code",
   "execution_count": 52,
   "id": "93d1f654",
   "metadata": {},
   "outputs": [
    {
     "name": "stdout",
     "output_type": "stream",
     "text": [
      "Estimating biases using als...\n",
      "Estimating biases using als...\n",
      "Estimating biases using als...\n",
      "Estimating biases using als...\n",
      "Estimating biases using als...\n",
      "Estimating biases using als...\n",
      "Estimating biases using als...\n",
      "Estimating biases using als...\n",
      "Estimating biases using als...\n",
      "Estimating biases using als...\n",
      "Estimating biases using als...\n",
      "Estimating biases using als...\n",
      "Estimating biases using als...\n",
      "Estimating biases using als...\n",
      "Estimating biases using als...\n",
      "Estimating biases using als...\n",
      "Estimating biases using als...\n",
      "Estimating biases using als...\n",
      "Estimating biases using als...\n",
      "Estimating biases using als...\n",
      "Estimating biases using als...\n",
      "Estimating biases using als...\n",
      "Estimating biases using als...\n",
      "Estimating biases using als...\n",
      "Estimating biases using als...\n",
      "Estimating biases using als...\n",
      "Estimating biases using als...\n",
      "Estimating biases using als...\n",
      "Estimating biases using als...\n",
      "Estimating biases using als...\n",
      "Estimating biases using als...\n",
      "Estimating biases using als...\n",
      "Estimating biases using als...\n",
      "Estimating biases using als...\n",
      "Estimating biases using als...\n",
      "Estimating biases using als...\n",
      "Estimating biases using als...\n",
      "Estimating biases using als...\n",
      "Estimating biases using als...\n",
      "Estimating biases using als...\n",
      "Estimating biases using als...\n",
      "Estimating biases using als...\n",
      "Estimating biases using als...\n",
      "Estimating biases using als...\n",
      "Estimating biases using als...\n",
      "Estimating biases using als...\n",
      "Estimating biases using als...\n",
      "Estimating biases using als...\n",
      "Estimating biases using als...\n",
      "Estimating biases using als...\n",
      "Estimating biases using als...\n",
      "Estimating biases using als...\n",
      "Estimating biases using als...\n",
      "Estimating biases using als...\n",
      "Estimating biases using als...\n",
      "Estimating biases using als...\n",
      "Estimating biases using als...\n",
      "Estimating biases using als...\n",
      "Estimating biases using als...\n",
      "Estimating biases using als...\n",
      "Estimating biases using als...\n",
      "Estimating biases using als...\n",
      "Estimating biases using als...\n",
      "Estimating biases using als...\n",
      "Estimating biases using als...\n",
      "Estimating biases using als...\n",
      "Estimating biases using als...\n",
      "Estimating biases using als...\n",
      "Estimating biases using als...\n",
      "Estimating biases using als...\n",
      "Estimating biases using als...\n",
      "Estimating biases using als...\n",
      "Estimating biases using als...\n",
      "Estimating biases using als...\n",
      "Estimating biases using als...\n",
      "Estimating biases using als...\n",
      "Estimating biases using als...\n",
      "Estimating biases using als...\n",
      "Estimating biases using als...\n",
      "Estimating biases using als...\n",
      "Estimating biases using als...\n",
      "Estimating biases using als...\n",
      "Estimating biases using als...\n",
      "Estimating biases using als...\n",
      "Estimating biases using als...\n",
      "Estimating biases using als...\n",
      "Estimating biases using als...\n",
      "Estimating biases using als...\n",
      "Estimating biases using als...\n",
      "Estimating biases using als...\n",
      "Estimating biases using als...\n",
      "Estimating biases using als...\n",
      "Estimating biases using als...\n",
      "Estimating biases using als...\n",
      "Estimating biases using als...\n",
      "Estimating biases using als...\n",
      "Estimating biases using als...\n",
      "Estimating biases using als...\n",
      "Estimating biases using als...\n",
      "Estimating biases using als...\n",
      "Estimating biases using als...\n",
      "Estimating biases using als...\n",
      "Estimating biases using als...\n",
      "Estimating biases using als...\n",
      "Estimating biases using als...\n",
      "Estimating biases using als...\n",
      "Estimating biases using als...\n",
      "Estimating biases using als...\n",
      "Estimating biases using als...\n",
      "Estimating biases using als...\n",
      "Estimating biases using als...\n",
      "Estimating biases using als...\n",
      "Estimating biases using als...\n",
      "Estimating biases using als...\n",
      "Estimating biases using als...\n",
      "Estimating biases using als...\n",
      "Estimating biases using als...\n",
      "Estimating biases using als...\n",
      "Estimating biases using als...\n",
      "Estimating biases using als...\n",
      "Estimating biases using als...\n",
      "Estimating biases using als...\n",
      "Estimating biases using als...\n",
      "Estimating biases using als...\n",
      "Estimating biases using als...\n",
      "Estimating biases using als...\n",
      "Estimating biases using als...\n",
      "Estimating biases using als...\n",
      "Estimating biases using als...\n",
      "Estimating biases using als...\n",
      "Estimating biases using als...\n",
      "Estimating biases using als...\n",
      "Estimating biases using als...\n",
      "Estimating biases using als...\n",
      "Estimating biases using als...\n",
      "Estimating biases using als...\n",
      "Estimating biases using als...\n",
      "Estimating biases using als...\n",
      "Estimating biases using als...\n",
      "Estimating biases using als...\n",
      "Estimating biases using als...\n",
      "Estimating biases using als...\n",
      "Estimating biases using als...\n",
      "Estimating biases using als...\n",
      "Estimating biases using als...\n",
      "Estimating biases using als...\n",
      "Estimating biases using als...\n",
      "Estimating biases using als...\n",
      "Estimating biases using als...\n",
      "Estimating biases using als...\n",
      "Estimating biases using als...\n",
      "Estimating biases using als...\n",
      "Estimating biases using als...\n",
      "Estimating biases using als...\n",
      "Estimating biases using als...\n",
      "Estimating biases using als...\n",
      "Estimating biases using als...\n",
      "Estimating biases using als...\n",
      "Estimating biases using als...\n",
      "Estimating biases using als...\n",
      "Estimating biases using als...\n",
      "Estimating biases using als...\n",
      "Estimating biases using als...\n",
      "Estimating biases using als...\n",
      "Estimating biases using als...\n",
      "Estimating biases using als...\n",
      "Estimating biases using als...\n",
      "Estimating biases using als...\n",
      "Estimating biases using als...\n",
      "Estimating biases using als...\n",
      "Estimating biases using als...\n",
      "Estimating biases using als...\n",
      "Estimating biases using als...\n",
      "Estimating biases using als...\n",
      "Estimating biases using als...\n",
      "Estimating biases using als...\n",
      "Estimating biases using als...\n",
      "Estimating biases using als...\n",
      "Estimating biases using als...\n",
      "Estimating biases using als...\n",
      "Estimating biases using als...\n",
      "Estimating biases using als...\n",
      "Estimating biases using als...\n",
      "Estimating biases using als...\n",
      "Estimating biases using als...\n",
      "Estimating biases using als...\n",
      "Estimating biases using als...\n",
      "Estimating biases using als...\n",
      "Estimating biases using als...\n",
      "{'bsl_options': {'method': 'als', 'reg_i': 12, 'reg_u': 4, 'n_epochs': 50}}\n",
      "1.6972289771762699\n"
     ]
    }
   ],
   "source": [
    "param_grid = {'bsl_options': {'method': ['als'],\n",
    "                              'reg_i': [10, 11, 12], # lambda 2\n",
    "                              'reg_u': [4, 5, 6],\n",
    "                              'n_epochs':[20,30,40,50,60,70,80],# lambda 3\n",
    "                             }   \n",
    "             }\n",
    "gs_als = GridSearchCV(BaselineOnly, param_grid, measures=['rmse'], cv=3, return_train_measures=True, n_jobs=1)\n",
    "gs_als.fit(df_auto)\n",
    "\n",
    "print(gs_als.best_params['rmse'])\n",
    "print(gs_als.best_score['rmse'])"
   ]
  },
  {
   "cell_type": "markdown",
   "id": "01b4a47b",
   "metadata": {},
   "source": [
    "###### Fitting the model"
   ]
  },
  {
   "cell_type": "code",
   "execution_count": 139,
   "id": "dafa7860",
   "metadata": {},
   "outputs": [
    {
     "name": "stdout",
     "output_type": "stream",
     "text": [
      "Estimating biases using als...\n",
      "RMSE: 1.6557\n",
      "Impossible: 0.0000\n"
     ]
    }
   ],
   "source": [
    "from surprise import BaselineOnly\n",
    "\n",
    "# Select alternating least squares (ALS) and 30 epochs\n",
    "options = {\"method\": \"als\", 'reg_i': 12, 'reg_u': 4, 'n_epochs': 50}\n",
    "als = BaselineOnly(bsl_options=options)\n",
    "\n",
    "# fit on training set\n",
    "als.fit(df_train)\n",
    "\n",
    "als_pred = als.test(df_test)\n",
    "accuracy.rmse(als_pred)\n",
    "\n",
    "# percentage impossible predictions\n",
    "perc_impossible = np.sum([1 for i in als_pred if i.details[\"was_impossible\"]]) / len(als_pred)\n",
    "print(f\"Impossible: {perc_impossible:.4f}\")"
   ]
  },
  {
   "cell_type": "markdown",
   "id": "ee76a48b",
   "metadata": {},
   "source": [
    "### Item Based KNN basic"
   ]
  },
  {
   "cell_type": "markdown",
   "id": "3c98f33c",
   "metadata": {},
   "source": [
    "###### Parameter Tuning using GridSearchCV"
   ]
  },
  {
   "cell_type": "code",
   "execution_count": 33,
   "id": "d80dcee5",
   "metadata": {},
   "outputs": [
    {
     "name": "stdout",
     "output_type": "stream",
     "text": [
      "Computing the cosine similarity matrix...\n"
     ]
    },
    {
     "name": "stderr",
     "output_type": "stream",
     "text": [
      "C:\\tools\\Anaconda3\\lib\\site-packages\\surprise\\prediction_algorithms\\algo_base.py:249: RuntimeWarning: invalid value encountered in double_scalars\n",
      "  sim = construction_func[name](*args)\n"
     ]
    },
    {
     "name": "stdout",
     "output_type": "stream",
     "text": [
      "Done computing similarity matrix.\n",
      "Computing the cosine similarity matrix...\n",
      "Done computing similarity matrix.\n",
      "Computing the cosine similarity matrix...\n",
      "Done computing similarity matrix.\n",
      "Computing the cosine similarity matrix...\n",
      "Done computing similarity matrix.\n",
      "Computing the cosine similarity matrix...\n",
      "Done computing similarity matrix.\n",
      "Computing the cosine similarity matrix...\n",
      "Done computing similarity matrix.\n",
      "Computing the cosine similarity matrix...\n",
      "Done computing similarity matrix.\n",
      "Computing the cosine similarity matrix...\n",
      "Done computing similarity matrix.\n",
      "Computing the cosine similarity matrix...\n",
      "Done computing similarity matrix.\n",
      "Computing the cosine similarity matrix...\n",
      "Done computing similarity matrix.\n",
      "Computing the cosine similarity matrix...\n",
      "Done computing similarity matrix.\n",
      "Computing the cosine similarity matrix...\n",
      "Done computing similarity matrix.\n",
      "Computing the cosine similarity matrix...\n",
      "Done computing similarity matrix.\n",
      "Computing the cosine similarity matrix...\n",
      "Done computing similarity matrix.\n",
      "Computing the cosine similarity matrix...\n",
      "Done computing similarity matrix.\n",
      "Computing the cosine similarity matrix...\n",
      "Done computing similarity matrix.\n",
      "Computing the cosine similarity matrix...\n",
      "Done computing similarity matrix.\n",
      "Computing the cosine similarity matrix...\n",
      "Done computing similarity matrix.\n",
      "Computing the cosine similarity matrix...\n",
      "Done computing similarity matrix.\n",
      "Computing the cosine similarity matrix...\n",
      "Done computing similarity matrix.\n",
      "Computing the cosine similarity matrix...\n",
      "Done computing similarity matrix.\n",
      "Computing the cosine similarity matrix...\n",
      "Done computing similarity matrix.\n",
      "Computing the cosine similarity matrix...\n",
      "Done computing similarity matrix.\n",
      "Computing the cosine similarity matrix...\n",
      "Done computing similarity matrix.\n",
      "Computing the cosine similarity matrix...\n",
      "Done computing similarity matrix.\n",
      "Computing the cosine similarity matrix...\n",
      "Done computing similarity matrix.\n",
      "Computing the cosine similarity matrix...\n",
      "Done computing similarity matrix.\n",
      "Computing the cosine similarity matrix...\n",
      "Done computing similarity matrix.\n",
      "Computing the cosine similarity matrix...\n",
      "Done computing similarity matrix.\n",
      "Computing the cosine similarity matrix...\n",
      "Done computing similarity matrix.\n",
      "Computing the cosine similarity matrix...\n",
      "Done computing similarity matrix.\n",
      "Computing the cosine similarity matrix...\n",
      "Done computing similarity matrix.\n",
      "Computing the cosine similarity matrix...\n",
      "Done computing similarity matrix.\n",
      "Computing the cosine similarity matrix...\n",
      "Done computing similarity matrix.\n",
      "Computing the cosine similarity matrix...\n",
      "Done computing similarity matrix.\n",
      "Computing the cosine similarity matrix...\n",
      "Done computing similarity matrix.\n",
      "Computing the cosine similarity matrix...\n",
      "Done computing similarity matrix.\n",
      "Computing the cosine similarity matrix...\n",
      "Done computing similarity matrix.\n",
      "Computing the cosine similarity matrix...\n",
      "Done computing similarity matrix.\n",
      "Computing the cosine similarity matrix...\n",
      "Done computing similarity matrix.\n",
      "Computing the cosine similarity matrix...\n",
      "Done computing similarity matrix.\n",
      "Computing the cosine similarity matrix...\n",
      "Done computing similarity matrix.\n",
      "Computing the cosine similarity matrix...\n",
      "Done computing similarity matrix.\n",
      "Computing the cosine similarity matrix...\n",
      "Done computing similarity matrix.\n",
      "Computing the cosine similarity matrix...\n",
      "Done computing similarity matrix.\n",
      "Computing the cosine similarity matrix...\n",
      "Done computing similarity matrix.\n",
      "Computing the cosine similarity matrix...\n",
      "Done computing similarity matrix.\n",
      "Computing the cosine similarity matrix...\n",
      "Done computing similarity matrix.\n",
      "Computing the cosine similarity matrix...\n",
      "Done computing similarity matrix.\n",
      "Computing the cosine similarity matrix...\n",
      "Done computing similarity matrix.\n",
      "Computing the cosine similarity matrix...\n",
      "Done computing similarity matrix.\n",
      "Computing the cosine similarity matrix...\n",
      "Done computing similarity matrix.\n",
      "Computing the cosine similarity matrix...\n",
      "Done computing similarity matrix.\n",
      "Computing the cosine similarity matrix...\n",
      "Done computing similarity matrix.\n",
      "Computing the cosine similarity matrix...\n",
      "Done computing similarity matrix.\n",
      "Computing the cosine similarity matrix...\n",
      "Done computing similarity matrix.\n",
      "Computing the cosine similarity matrix...\n",
      "Done computing similarity matrix.\n",
      "Computing the cosine similarity matrix...\n",
      "Done computing similarity matrix.\n",
      "Computing the cosine similarity matrix...\n",
      "Done computing similarity matrix.\n",
      "Computing the cosine similarity matrix...\n",
      "Done computing similarity matrix.\n",
      "Computing the cosine similarity matrix...\n",
      "Done computing similarity matrix.\n",
      "Computing the cosine similarity matrix...\n",
      "Done computing similarity matrix.\n",
      "Computing the cosine similarity matrix...\n",
      "Done computing similarity matrix.\n",
      "{'k': 20, 'min_k': 1, 'sim_options': {'name': 'cosine', 'user_based': False}}\n",
      "2.1851631890497774\n"
     ]
    }
   ],
   "source": [
    "from surprise import KNNBasic\n",
    "\n",
    "param_grid = {'k': [5,10,20, 30, 40, 50,60],\n",
    "              'min_k' : [1,3,5],\n",
    "              'sim_options': {'name': ['cosine'],\n",
    "                              'user_based': [False]\n",
    "                             }\n",
    "             }\n",
    "\n",
    "gs_knn = GridSearchCV(KNNBasic, param_grid, measures=['rmse'], cv=3, return_train_measures=True, n_jobs=1)\n",
    "gs_knn.fit(df_auto)\n",
    "\n",
    "print(gs_knn.best_params['rmse'])\n",
    "print(gs_knn.best_score['rmse'])"
   ]
  },
  {
   "cell_type": "markdown",
   "id": "1a56f99e",
   "metadata": {},
   "source": [
    "###### Fitting the model"
   ]
  },
  {
   "cell_type": "code",
   "execution_count": 140,
   "id": "22f219c8",
   "metadata": {},
   "outputs": [
    {
     "name": "stdout",
     "output_type": "stream",
     "text": [
      "Computing the pearson similarity matrix...\n",
      "Done computing similarity matrix.\n",
      "RMSE: 2.2913\n"
     ]
    },
    {
     "data": {
      "text/plain": [
       "2.2912758387401473"
      ]
     },
     "execution_count": 140,
     "metadata": {},
     "output_type": "execute_result"
    }
   ],
   "source": [
    "# set option to cosine similarity and user-based collaborative filtering\n",
    "options = {'name':'pearson', 'user_based':False}\n",
    "\n",
    "# select 20 most similar items (min 5)\n",
    "ib = KNNBasic(k=10, min_k=2, sim_options=options, random_state=42)\n",
    "\n",
    "# fit on training set\n",
    "ib.fit(df_train)\n",
    "\n",
    "ib_pred = ib.test(df_test)\n",
    "accuracy.rmse(ib_pred)"
   ]
  },
  {
   "cell_type": "markdown",
   "id": "8d886539",
   "metadata": {},
   "source": [
    "### SVD (Singular value decomposition)"
   ]
  },
  {
   "cell_type": "markdown",
   "id": "318c7e70",
   "metadata": {},
   "source": [
    "###### Parameter Tuning using GridSearchCV"
   ]
  },
  {
   "cell_type": "code",
   "execution_count": 42,
   "id": "53caf11c",
   "metadata": {},
   "outputs": [
    {
     "name": "stdout",
     "output_type": "stream",
     "text": [
      "{'n_factors': 50, 'n_epochs': 20}\n"
     ]
    }
   ],
   "source": [
    "from surprise.model_selection import GridSearchCV\n",
    "\n",
    "df_auto = Dataset.load_from_df(train, reader)\n",
    "\n",
    "param_grid = {'n_factors': [50,75,100,125,150,175,200], 'n_epochs':[10, 20,30,40,50,60]}\n",
    "\n",
    "gs = GridSearchCV(SVD, param_grid, measures=['rmse', 'mae'], cv=5)\n",
    "\n",
    "gs.fit(df_auto)\n",
    "\n",
    "# combination of parameters with the best RMSE\n",
    "print(gs.best_params['rmse'])"
   ]
  },
  {
   "cell_type": "markdown",
   "id": "95e0e536",
   "metadata": {},
   "source": [
    "###### Fitting the model"
   ]
  },
  {
   "cell_type": "code",
   "execution_count": 141,
   "id": "840ef5da",
   "metadata": {},
   "outputs": [
    {
     "name": "stdout",
     "output_type": "stream",
     "text": [
      "RMSE: 2.3028\n",
      "Impossible: 0.1380\n"
     ]
    }
   ],
   "source": [
    "from surprise import SVD\n",
    "\n",
    "# select 20 factors and use probabilistic matrix factorization (no bias)\n",
    "svd = SVD(n_factors=50,n_epochs=20, biased=False, random_state=42)\n",
    "\n",
    "# fit on training set\n",
    "svd.fit(df_train)\n",
    "\n",
    "svd_pred4 = svd.test(df_test)\n",
    "accuracy.rmse(svd_pred4)\n",
    "\n",
    "# percentage impossible predictions\n",
    "perc_impossible = np.sum([1 for i in svd_pred4 if i.details[\"was_impossible\"]]) / len(svd_pred4)\n",
    "print(f\"Impossible: {perc_impossible:.4f}\")"
   ]
  },
  {
   "cell_type": "markdown",
   "id": "6017e6c8",
   "metadata": {},
   "source": [
    "### SVDpp"
   ]
  },
  {
   "cell_type": "markdown",
   "id": "7727341c",
   "metadata": {},
   "source": [
    "###### Parameter Tuning using GridSearchCV"
   ]
  },
  {
   "cell_type": "code",
   "execution_count": 46,
   "id": "e6a171ef",
   "metadata": {},
   "outputs": [
    {
     "name": "stdout",
     "output_type": "stream",
     "text": [
      "{'n_factors': 50, 'n_epochs': 10}\n"
     ]
    }
   ],
   "source": [
    "from surprise.model_selection import GridSearchCV\n",
    "\n",
    "df_auto = Dataset.load_from_df(train, reader)\n",
    "\n",
    "param_grid1 = {'n_factors': [50,75,100,125,150,175,200], 'n_epochs':[10, 20,30,40,50,60]}\n",
    "\n",
    "gs_svdpp = GridSearchCV(SVDpp, param_grid1, measures=['rmse', 'mae'], cv=5)\n",
    "\n",
    "gs_svdpp.fit(df_auto)\n",
    "\n",
    "# combination of parameters with the best RMSE\n",
    "print(gs_svdpp.best_params['rmse'])"
   ]
  },
  {
   "cell_type": "markdown",
   "id": "d09355ae",
   "metadata": {},
   "source": [
    "###### Fitting the model"
   ]
  },
  {
   "cell_type": "code",
   "execution_count": 142,
   "id": "7c9d0c48",
   "metadata": {},
   "outputs": [
    {
     "name": "stdout",
     "output_type": "stream",
     "text": [
      "RMSE: 1.6835\n",
      "Impossible: 0.0000\n"
     ]
    }
   ],
   "source": [
    "from surprise import SVDpp\n",
    "\n",
    "# select 20 factors and use probabilistic matrix factorization (no bias)\n",
    "svd_pp = SVDpp(n_factors=50,n_epochs=10,random_state=42)\n",
    "\n",
    "# fit on training set\n",
    "svd_pp.fit(df_train)\n",
    "\n",
    "svdpp_pred = svd_pp.test(df_test)\n",
    "accuracy.rmse(svdpp_pred)\n",
    "\n",
    "# percentage impossible predictions\n",
    "perc_impossible = np.sum([1 for i in svdpp_pred if i.details[\"was_impossible\"]]) / len(svdpp_pred)\n",
    "print(f\"Impossible: {perc_impossible:.4f}\")"
   ]
  },
  {
   "cell_type": "markdown",
   "id": "a9921564",
   "metadata": {},
   "source": [
    "### Co-Clustering"
   ]
  },
  {
   "cell_type": "markdown",
   "id": "f9818d21",
   "metadata": {},
   "source": [
    "###### Parameter Tuning using GridSearchCV"
   ]
  },
  {
   "cell_type": "code",
   "execution_count": 202,
   "id": "9d63c6d6",
   "metadata": {},
   "outputs": [
    {
     "name": "stdout",
     "output_type": "stream",
     "text": [
      "{'n_cltr_u': 5, 'n_cltr_i': 5, 'n_epochs': 30}\n",
      "2.140229791009704\n"
     ]
    }
   ],
   "source": [
    "from surprise import KNNBasic\n",
    "\n",
    "param_grid = {'n_cltr_u': [5,10,20],\n",
    "              'n_cltr_i' : [5,10,20],\n",
    "              'n_epochs' : [10,30,40,50,60,70],\n",
    "             }\n",
    "\n",
    "gs_cc = GridSearchCV(CoClustering, param_grid, measures=['rmse'], cv=3, return_train_measures=True, n_jobs=1)\n",
    "gs_cc.fit(df_auto)\n",
    "\n",
    "print(gs_cc.best_params['rmse'])\n",
    "print(gs_cc.best_score['rmse'])"
   ]
  },
  {
   "cell_type": "markdown",
   "id": "4466a543",
   "metadata": {},
   "source": [
    "###### Fitting the model"
   ]
  },
  {
   "cell_type": "code",
   "execution_count": 203,
   "id": "cbf38b1e",
   "metadata": {},
   "outputs": [
    {
     "name": "stderr",
     "output_type": "stream",
     "text": [
      "<ipython-input-203-f8c3f23fbdfb>:5: DeprecationWarning: `np.int` is a deprecated alias for the builtin `int`. To silence this warning, use `int` by itself. Doing this will not modify any behavior and is safe. When replacing `np.int`, you may wish to use e.g. `np.int64` or `np.int32` to specify the precision. If you wish to review your current use, check the release note link for additional information.\n",
      "Deprecated in NumPy 1.20; for more details and guidance: https://numpy.org/devdocs/release/1.20.0-notes.html#deprecations\n",
      "  clust.fit(df_train)\n"
     ]
    },
    {
     "name": "stdout",
     "output_type": "stream",
     "text": [
      "RMSE: 2.0635\n"
     ]
    },
    {
     "data": {
      "text/plain": [
       "2.0635213923902445"
      ]
     },
     "execution_count": 203,
     "metadata": {},
     "output_type": "execute_result"
    }
   ],
   "source": [
    "from surprise import CoClustering\n",
    "\n",
    "clust = CoClustering(n_cltr_u=5, n_cltr_i=5, n_epochs=30, random_state=42)\n",
    "\n",
    "clust.fit(df_train)\n",
    "\n",
    "clust_pred = clust.test(df_test)\n",
    "accuracy.rmse(clust_pred)"
   ]
  },
  {
   "cell_type": "markdown",
   "id": "277e6a5a",
   "metadata": {},
   "source": [
    "### Hybrid 1 - Content based + ALS Baseline"
   ]
  },
  {
   "cell_type": "code",
   "execution_count": 149,
   "id": "4e665e78",
   "metadata": {},
   "outputs": [
    {
     "data": {
      "text/html": [
       "<div>\n",
       "<style scoped>\n",
       "    .dataframe tbody tr th:only-of-type {\n",
       "        vertical-align: middle;\n",
       "    }\n",
       "\n",
       "    .dataframe tbody tr th {\n",
       "        vertical-align: top;\n",
       "    }\n",
       "\n",
       "    .dataframe thead th {\n",
       "        text-align: right;\n",
       "    }\n",
       "</style>\n",
       "<table border=\"1\" class=\"dataframe\">\n",
       "  <thead>\n",
       "    <tr style=\"text-align: right;\">\n",
       "      <th></th>\n",
       "      <th>value</th>\n",
       "    </tr>\n",
       "  </thead>\n",
       "  <tbody>\n",
       "    <tr>\n",
       "      <th>RMSE</th>\n",
       "      <td>1.696563</td>\n",
       "    </tr>\n",
       "    <tr>\n",
       "      <th>MAE</th>\n",
       "      <td>1.324128</td>\n",
       "    </tr>\n",
       "    <tr>\n",
       "      <th>Recall</th>\n",
       "      <td>0.755975</td>\n",
       "    </tr>\n",
       "    <tr>\n",
       "      <th>Precision</th>\n",
       "      <td>0.858583</td>\n",
       "    </tr>\n",
       "    <tr>\n",
       "      <th>F1</th>\n",
       "      <td>0.804019</td>\n",
       "    </tr>\n",
       "    <tr>\n",
       "      <th>NDCG@5</th>\n",
       "      <td>0.850978</td>\n",
       "    </tr>\n",
       "  </tbody>\n",
       "</table>\n",
       "</div>"
      ],
      "text/plain": [
       "              value\n",
       "RMSE       1.696563\n",
       "MAE        1.324128\n",
       "Recall     0.755975\n",
       "Precision  0.858583\n",
       "F1         0.804019\n",
       "NDCG@5     0.850978"
      ]
     },
     "execution_count": 149,
     "metadata": {},
     "output_type": "execute_result"
    }
   ],
   "source": [
    "# Combine predictions (mean)\n",
    "\n",
    "# extract predictions content-based and ALS\n",
    "\n",
    "df_pred_cb, df_pred_als = pd.DataFrame(cb_pred), pd.DataFrame(als_pred)\n",
    "\n",
    "df_hybrid = df_pred_cb.copy()\n",
    "df_hybrid['est'] = (np.array(df_pred_cb['est']) + np.array(df_pred_als['est'])) / 2\n",
    "\n",
    "df_hybrid.head()\n",
    "eval.evaluate(df_hybrid, topn=5, rating_cutoff=5)"
   ]
  },
  {
   "cell_type": "markdown",
   "id": "e7de6ac2",
   "metadata": {},
   "source": [
    "### Hybrid 2 - Content Based + SVDpp"
   ]
  },
  {
   "cell_type": "code",
   "execution_count": 150,
   "id": "7b07473a",
   "metadata": {
    "scrolled": true
   },
   "outputs": [
    {
     "data": {
      "text/html": [
       "<div>\n",
       "<style scoped>\n",
       "    .dataframe tbody tr th:only-of-type {\n",
       "        vertical-align: middle;\n",
       "    }\n",
       "\n",
       "    .dataframe tbody tr th {\n",
       "        vertical-align: top;\n",
       "    }\n",
       "\n",
       "    .dataframe thead th {\n",
       "        text-align: right;\n",
       "    }\n",
       "</style>\n",
       "<table border=\"1\" class=\"dataframe\">\n",
       "  <thead>\n",
       "    <tr style=\"text-align: right;\">\n",
       "      <th></th>\n",
       "      <th>value</th>\n",
       "    </tr>\n",
       "  </thead>\n",
       "  <tbody>\n",
       "    <tr>\n",
       "      <th>RMSE</th>\n",
       "      <td>1.695378</td>\n",
       "    </tr>\n",
       "    <tr>\n",
       "      <th>MAE</th>\n",
       "      <td>1.332058</td>\n",
       "    </tr>\n",
       "    <tr>\n",
       "      <th>Recall</th>\n",
       "      <td>0.762416</td>\n",
       "    </tr>\n",
       "    <tr>\n",
       "      <th>Precision</th>\n",
       "      <td>0.858916</td>\n",
       "    </tr>\n",
       "    <tr>\n",
       "      <th>F1</th>\n",
       "      <td>0.807794</td>\n",
       "    </tr>\n",
       "    <tr>\n",
       "      <th>NDCG@5</th>\n",
       "      <td>0.848552</td>\n",
       "    </tr>\n",
       "  </tbody>\n",
       "</table>\n",
       "</div>"
      ],
      "text/plain": [
       "              value\n",
       "RMSE       1.695378\n",
       "MAE        1.332058\n",
       "Recall     0.762416\n",
       "Precision  0.858916\n",
       "F1         0.807794\n",
       "NDCG@5     0.848552"
      ]
     },
     "execution_count": 150,
     "metadata": {},
     "output_type": "execute_result"
    }
   ],
   "source": [
    "# Combine predictions (mean)\n",
    "\n",
    "# extract predictions content-based and IB\n",
    "\n",
    "df_pred_cb, df_svd_pp = pd.DataFrame(cb_pred), pd.DataFrame(svdpp_pred)\n",
    "\n",
    "df_hybrid1 = df_pred_cb.copy()\n",
    "df_hybrid1['est'] = ((np.array(df_pred_cb['est']) + np.array(df_svd_pp['est'])) / 2)\n",
    "\n",
    "df_hybrid1.head()\n",
    "eval.evaluate(df_hybrid1, topn=5, rating_cutoff=5)"
   ]
  },
  {
   "cell_type": "markdown",
   "id": "c96ecb4f",
   "metadata": {},
   "source": [
    "### Hybrid 3 - Content Based + SVDpp + Linear Regression"
   ]
  },
  {
   "cell_type": "code",
   "execution_count": 152,
   "id": "7159ff4a",
   "metadata": {},
   "outputs": [],
   "source": [
    "# make predictions for Evaluation\n",
    "\n",
    "# Content Based\n",
    "cb_pred2 = cb.test(df_evaluation)\n",
    "\n",
    "# SVDpp\n",
    "svdpp_pred2 = svd_pp.test(df_evaluation)\n",
    "\n",
    "# convert to df\n",
    "df_pred_cb2, df_svd_pp2 = pd.DataFrame(cb_pred2), pd.DataFrame(svdpp_pred2)\n",
    "\n",
    "##### Hybrid - Mean\n",
    "df_hybrid_lr = df_pred_cb2.copy()\n",
    "df_hybrid_lr['est'] = (np.array(df_pred_cb2['est']) + np.array(df_svd_pp2['est'])) / 2\n"
   ]
  },
  {
   "cell_type": "code",
   "execution_count": 153,
   "id": "ae1f45f1",
   "metadata": {},
   "outputs": [],
   "source": [
    "# training set for Linear Regression model\n",
    "\n",
    "lr_train = df_svd_pp[['r_ui', 'est']].rename(columns={'r_ui':'target', 'est':'svdpp_pred'})\n",
    "lr_train['cb_pred'] = df_pred_cb['est']\n",
    "lr_train.head()\n",
    "\n",
    "# Train Linear Regression model\n",
    "from sklearn.linear_model import LinearRegression\n",
    "\n",
    "X, y = lr_train.loc[:,lr_train.columns != 'target'], lr_train[['target']]\n",
    "\n",
    "lr_model = LinearRegression().fit(X,y)"
   ]
  },
  {
   "cell_type": "code",
   "execution_count": 155,
   "id": "f7debc4f",
   "metadata": {},
   "outputs": [],
   "source": [
    "##### Hybrid - Linear Regression model\n",
    "# get test set\n",
    "lr_test = df_svd_pp2[['r_ui', 'est']].rename(columns={'r_ui':'target', 'est':'svdpp_pred'})\n",
    "lr_test['cb_pred'] = df_pred_cb2['est']\n",
    "X_test, y_test = lr_test.loc[:,lr_test.columns != 'target'], lr_test[['target']]\n",
    "\n",
    "# predict\n",
    "lr_pred = lr_model.predict(X_test)\n",
    "\n",
    "# transform in surprise format\n",
    "df_lr = df_svd_pp2.copy()\n",
    "df_lr['est'] = lr_pred"
   ]
  },
  {
   "cell_type": "markdown",
   "id": "23a8cbac",
   "metadata": {},
   "source": [
    "### Random Forest"
   ]
  },
  {
   "cell_type": "code",
   "execution_count": 156,
   "id": "f67b4eea",
   "metadata": {},
   "outputs": [],
   "source": [
    "# copy lr train set\n",
    "rf_train = lr_train.copy()\n",
    "rf_train.head()\n",
    "\n",
    "from sklearn.ensemble import RandomForestRegressor\n",
    "\n",
    "X, y = rf_train.loc[:,rf_train.columns != 'target'], np.array(rf_train['target'])\n",
    "\n",
    "# fit random forest model\n",
    "rf_model = RandomForestRegressor(max_depth=4, n_estimators=100).fit(X,y)"
   ]
  },
  {
   "cell_type": "code",
   "execution_count": 157,
   "id": "151f7e90",
   "metadata": {},
   "outputs": [],
   "source": [
    "# predict\n",
    "rf_pred = rf_model.predict(X_test)\n",
    "\n",
    "# transform in surprise format\n",
    "df_rf = df_pred_cb2.copy()\n",
    "df_rf['est'] = rf_pred\n",
    "\n",
    "# Evaluate\n",
    "rf_res = eval.prediction_metrics(df_rf).rename(columns={'value':'Hybrid_RF'})"
   ]
  },
  {
   "cell_type": "markdown",
   "id": "4314d2be",
   "metadata": {},
   "source": [
    "## Models Evaluation"
   ]
  },
  {
   "cell_type": "code",
   "execution_count": 166,
   "id": "bdf68bf0",
   "metadata": {},
   "outputs": [
    {
     "name": "stdout",
     "output_type": "stream",
     "text": [
      "Excluded 1043 (13925) samples. 12882 remaining ...\n",
      "Excluded 1043 (13925) samples. 12882 remaining ...\n",
      "Excluded 4543 (13925) samples. 9382 remaining ...\n",
      "Excluded 4543 (13925) samples. 9382 remaining ...\n",
      "Excluded 0 (13925) samples. 13925 remaining ...\n",
      "Excluded 0 (13925) samples. 13925 remaining ...\n",
      "Excluded 1921 (13925) samples. 12004 remaining ...\n",
      "Excluded 1921 (13925) samples. 12004 remaining ...\n",
      "Excluded 0 (13925) samples. 13925 remaining ...\n",
      "Excluded 0 (13925) samples. 13925 remaining ...\n",
      "Excluded 0 (13925) samples. 13925 remaining ...\n",
      "Excluded 0 (13925) samples. 13925 remaining ...\n",
      "Excluded 1043 (13925) samples. 12882 remaining ...\n",
      "Excluded 1043 (13925) samples. 12882 remaining ...\n",
      "Excluded 1043 (13925) samples. 12882 remaining ...\n",
      "Excluded 1043 (13925) samples. 12882 remaining ...\n",
      "Excluded 0 (13926) samples. 13926 remaining ...\n",
      "Excluded 0 (13926) samples. 13926 remaining ...\n",
      "Excluded 1028 (13926) samples. 12898 remaining ...\n",
      "Excluded 1028 (13926) samples. 12898 remaining ...\n"
     ]
    },
    {
     "data": {
      "text/html": [
       "<div>\n",
       "<style scoped>\n",
       "    .dataframe tbody tr th:only-of-type {\n",
       "        vertical-align: middle;\n",
       "    }\n",
       "\n",
       "    .dataframe tbody tr th {\n",
       "        vertical-align: top;\n",
       "    }\n",
       "\n",
       "    .dataframe thead th {\n",
       "        text-align: right;\n",
       "    }\n",
       "</style>\n",
       "<table border=\"1\" class=\"dataframe\">\n",
       "  <thead>\n",
       "    <tr style=\"text-align: right;\">\n",
       "      <th></th>\n",
       "      <th>Content_Based</th>\n",
       "      <th>Item_Based</th>\n",
       "      <th>ALS</th>\n",
       "      <th>SVD</th>\n",
       "      <th>SVDPP_</th>\n",
       "      <th>Clustering</th>\n",
       "      <th>H:CB+ALS</th>\n",
       "      <th>H:CB+SVDpp</th>\n",
       "      <th>Hybrid+ LR</th>\n",
       "      <th>Hybrid: RF</th>\n",
       "    </tr>\n",
       "  </thead>\n",
       "  <tbody>\n",
       "    <tr>\n",
       "      <th>RMSE</th>\n",
       "      <td>1.699809</td>\n",
       "      <td>1.932557</td>\n",
       "      <td>1.655654</td>\n",
       "      <td>2.178094</td>\n",
       "      <td>1.683452</td>\n",
       "      <td>2.079200</td>\n",
       "      <td>1.665838</td>\n",
       "      <td>1.656146</td>\n",
       "      <td>1.655865</td>\n",
       "      <td>1.665034</td>\n",
       "    </tr>\n",
       "    <tr>\n",
       "      <th>MAE</th>\n",
       "      <td>1.287678</td>\n",
       "      <td>1.463192</td>\n",
       "      <td>1.297248</td>\n",
       "      <td>1.605420</td>\n",
       "      <td>1.331483</td>\n",
       "      <td>1.609730</td>\n",
       "      <td>1.286720</td>\n",
       "      <td>1.289300</td>\n",
       "      <td>1.262929</td>\n",
       "      <td>1.257390</td>\n",
       "    </tr>\n",
       "    <tr>\n",
       "      <th>Recall</th>\n",
       "      <td>0.756789</td>\n",
       "      <td>0.759783</td>\n",
       "      <td>0.754830</td>\n",
       "      <td>0.596641</td>\n",
       "      <td>0.759267</td>\n",
       "      <td>0.673107</td>\n",
       "      <td>0.759203</td>\n",
       "      <td>0.767502</td>\n",
       "      <td>0.758099</td>\n",
       "      <td>0.756593</td>\n",
       "    </tr>\n",
       "    <tr>\n",
       "      <th>Precision</th>\n",
       "      <td>0.846582</td>\n",
       "      <td>0.823258</td>\n",
       "      <td>0.859378</td>\n",
       "      <td>0.875203</td>\n",
       "      <td>0.857443</td>\n",
       "      <td>0.827410</td>\n",
       "      <td>0.856219</td>\n",
       "      <td>0.856542</td>\n",
       "      <td>0.860154</td>\n",
       "      <td>0.861432</td>\n",
       "    </tr>\n",
       "    <tr>\n",
       "      <th>F1</th>\n",
       "      <td>0.799172</td>\n",
       "      <td>0.790248</td>\n",
       "      <td>0.803718</td>\n",
       "      <td>0.709562</td>\n",
       "      <td>0.805374</td>\n",
       "      <td>0.742325</td>\n",
       "      <td>0.804798</td>\n",
       "      <td>0.809581</td>\n",
       "      <td>0.805908</td>\n",
       "      <td>0.805616</td>\n",
       "    </tr>\n",
       "    <tr>\n",
       "      <th>NDCG@10</th>\n",
       "      <td>0.843000</td>\n",
       "      <td>0.822074</td>\n",
       "      <td>0.840814</td>\n",
       "      <td>0.840641</td>\n",
       "      <td>0.839084</td>\n",
       "      <td>0.829930</td>\n",
       "      <td>0.839167</td>\n",
       "      <td>0.837879</td>\n",
       "      <td>0.832921</td>\n",
       "      <td>0.850117</td>\n",
       "    </tr>\n",
       "  </tbody>\n",
       "</table>\n",
       "</div>"
      ],
      "text/plain": [
       "           Content_Based  Item_Based       ALS       SVD    SVDPP_  \\\n",
       "RMSE            1.699809    1.932557  1.655654  2.178094  1.683452   \n",
       "MAE             1.287678    1.463192  1.297248  1.605420  1.331483   \n",
       "Recall          0.756789    0.759783  0.754830  0.596641  0.759267   \n",
       "Precision       0.846582    0.823258  0.859378  0.875203  0.857443   \n",
       "F1              0.799172    0.790248  0.803718  0.709562  0.805374   \n",
       "NDCG@10         0.843000    0.822074  0.840814  0.840641  0.839084   \n",
       "\n",
       "           Clustering  H:CB+ALS  H:CB+SVDpp  Hybrid+ LR  Hybrid: RF  \n",
       "RMSE         2.079200  1.665838    1.656146    1.655865    1.665034  \n",
       "MAE          1.609730  1.286720    1.289300    1.262929    1.257390  \n",
       "Recall       0.673107  0.759203    0.767502    0.758099    0.756593  \n",
       "Precision    0.827410  0.856219    0.856542    0.860154    0.861432  \n",
       "F1           0.742325  0.804798    0.809581    0.805908    0.805616  \n",
       "NDCG@10      0.829930  0.839167    0.837879    0.832921    0.850117  "
      ]
     },
     "execution_count": 166,
     "metadata": {},
     "output_type": "execute_result"
    }
   ],
   "source": [
    "models = {\"Content_Based\":cb_pred, \"Item_Based\":ib_pred,\"ALS\":als_pred,\"SVD\":svd_pred4,\"SVDPP_\":svdpp_pred,\"Clustering\":clust_pred,\"H:CB+ALS\":df_hybrid,\"H:CB+SVDpp\":df_hybrid1,\"Hybrid+ LR\":df_lr,\"Hybrid: RF\":df_rf}\n",
    "overview = pd.concat([eval.evaluate(mod, topn=10, rating_cutoff=5, excl_impossible=True) for mod in models.values()], axis=1)\n",
    "overview.columns = list(models.keys())\n",
    "overview"
   ]
  },
  {
   "cell_type": "code",
   "execution_count": 167,
   "id": "9ddc7ff9",
   "metadata": {},
   "outputs": [
    {
     "data": {
      "image/png": "[encoded data removed]",
      "text/plain": [
       "<Figure size 576x288 with 1 Axes>"
      ]
     },
     "metadata": {
      "needs_background": "light"
     },
     "output_type": "display_data"
    },
    {
     "data": {
      "image/png": "[encoded data removed]",
      "text/plain": [
       "<Figure size 576x288 with 1 Axes>"
      ]
     },
     "metadata": {
      "needs_background": "light"
     },
     "output_type": "display_data"
    },
    {
     "data": {
      "image/png": "[encoded data removed]",
      "text/plain": [
       "<Figure size 576x288 with 1 Axes>"
      ]
     },
     "metadata": {
      "needs_background": "light"
     },
     "output_type": "display_data"
    },
    {
     "data": {
      "image/png": "[encoded data removed]",
      "text/plain": [
       "<Figure size 576x288 with 1 Axes>"
      ]
     },
     "metadata": {
      "needs_background": "light"
     },
     "output_type": "display_data"
    },
    {
     "data": {
      "image/png": "[encoded data removed]",
      "text/plain": [
       "<Figure size 576x288 with 1 Axes>"
      ]
     },
     "metadata": {
      "needs_background": "light"
     },
     "output_type": "display_data"
    },
    {
     "data": {
      "image/png": "[encoded data removed]",
      "text/plain": [
       "<Figure size 576x288 with 1 Axes>"
      ]
     },
     "metadata": {
      "needs_background": "light"
     },
     "output_type": "display_data"
    }
   ],
   "source": [
    "# simple visualization (Bar Chart)\n",
    "\n",
    "import matplotlib.pyplot as plt\n",
    "\n",
    "width = .5\n",
    "\n",
    "for j, row in enumerate(overview.index):\n",
    "    fig, ax = plt.subplots(figsize=(8,4))\n",
    "    x = np.arange(len(overview.columns))\n",
    "    for i, col in enumerate(overview.columns):\n",
    "        plt.bar(x[i], overview.iloc[j,i], width, label='col')\n",
    "        ax.text(x[i], overview.iloc[j,i], str(round(overview.iloc[j,i],2)),\n",
    "                ha='center', va='bottom')\n",
    "    ax.set_xticks(x)\n",
    "    ax.set_title(row)\n",
    "    ax.set_xticklabels(overview.columns)\n",
    "    plt.show()"
   ]
  },
  {
   "cell_type": "markdown",
   "id": "3167f630",
   "metadata": {},
   "source": [
    "## Selected Model: ALS (BaselineOnly)"
   ]
  },
  {
   "cell_type": "code",
   "execution_count": 217,
   "id": "e6482f5a",
   "metadata": {},
   "outputs": [
    {
     "name": "stdout",
     "output_type": "stream",
     "text": [
      "Excluded 0 (13925) samples. 13925 remaining ...\n",
      "Excluded 0 (13925) samples. 13925 remaining ...\n"
     ]
    },
    {
     "data": {
      "text/html": [
       "<div>\n",
       "<style scoped>\n",
       "    .dataframe tbody tr th:only-of-type {\n",
       "        vertical-align: middle;\n",
       "    }\n",
       "\n",
       "    .dataframe tbody tr th {\n",
       "        vertical-align: top;\n",
       "    }\n",
       "\n",
       "    .dataframe thead th {\n",
       "        text-align: right;\n",
       "    }\n",
       "</style>\n",
       "<table border=\"1\" class=\"dataframe\">\n",
       "  <thead>\n",
       "    <tr style=\"text-align: right;\">\n",
       "      <th></th>\n",
       "      <th>ALS</th>\n",
       "    </tr>\n",
       "  </thead>\n",
       "  <tbody>\n",
       "    <tr>\n",
       "      <th>RMSE</th>\n",
       "      <td>1.655654</td>\n",
       "    </tr>\n",
       "    <tr>\n",
       "      <th>MAE</th>\n",
       "      <td>1.297248</td>\n",
       "    </tr>\n",
       "    <tr>\n",
       "      <th>F1</th>\n",
       "      <td>0.803718</td>\n",
       "    </tr>\n",
       "    <tr>\n",
       "      <th>NDCG@10</th>\n",
       "      <td>0.840814</td>\n",
       "    </tr>\n",
       "  </tbody>\n",
       "</table>\n",
       "</div>"
      ],
      "text/plain": [
       "              ALS\n",
       "RMSE     1.655654\n",
       "MAE      1.297248\n",
       "F1       0.803718\n",
       "NDCG@10  0.840814"
      ]
     },
     "execution_count": 217,
     "metadata": {},
     "output_type": "execute_result"
    }
   ],
   "source": [
    "models = {\"ALS\":als_pred}\n",
    "overview = pd.concat([eval.evaluate(mod, topn=10, rating_cutoff=5, excl_impossible=True) for mod in models.values()], axis=1)\n",
    "overview.columns = list(models.keys())\n",
    "overview.drop(labels=['Recall','Precision'], axis=0)"
   ]
  },
  {
   "cell_type": "markdown",
   "id": "a6557ea5",
   "metadata": {},
   "source": [
    "## Qualitative Assesment of recommendations"
   ]
  },
  {
   "cell_type": "markdown",
   "id": "c1d8d24f",
   "metadata": {},
   "source": [
    "###### Defining Function to predict recommendations"
   ]
  },
  {
   "cell_type": "code",
   "execution_count": 168,
   "id": "1ab08871",
   "metadata": {},
   "outputs": [],
   "source": [
    "def predict_user_topn(model, train, user, topk=15, item_col='item'):\n",
    "    \"\"\"\n",
    "    Returns topk items for specified user.\n",
    "    Return type: list\n",
    "\n",
    "    Args[model, train, user, topk, item_col]\n",
    "    model:      fitted model (surprise package)\n",
    "    train:      train set used to fit model\n",
    "    user:       user id\n",
    "    topk:       topk items to return\n",
    "    item_col:   column containing item ids \n",
    "    \"\"\"\n",
    "\n",
    "    # intermediate result dict \n",
    "    res = {item_col:[], 'pred':[], 'detail':[]}\n",
    "    \n",
    "    # iter through all items contained in train set\n",
    "    for item in set(train[item_col]) :\n",
    "        uid, iid, true_r, est, detail = model.predict(user,item)\n",
    "        if detail['was_impossible']: continue\n",
    "        # save to result dict\n",
    "        res[item_col].append(item)\n",
    "        res['pred'].append(est)\n",
    "        res['detail'].append(detail)\n",
    "\n",
    "    return list(pd.DataFrame(res).sort_values('pred', ascending=False)[:topk][item_col])"
   ]
  },
  {
   "cell_type": "markdown",
   "id": "5fa547aa",
   "metadata": {},
   "source": [
    "#### Recommendations for the selected Model: ALS"
   ]
  },
  {
   "cell_type": "code",
   "execution_count": 218,
   "id": "46b1d836",
   "metadata": {},
   "outputs": [
    {
     "data": {
      "text/html": [
       "<div>\n",
       "<style scoped>\n",
       "    .dataframe tbody tr th:only-of-type {\n",
       "        vertical-align: middle;\n",
       "    }\n",
       "\n",
       "    .dataframe tbody tr th {\n",
       "        vertical-align: top;\n",
       "    }\n",
       "\n",
       "    .dataframe thead th {\n",
       "        text-align: right;\n",
       "    }\n",
       "</style>\n",
       "<table border=\"1\" class=\"dataframe\">\n",
       "  <thead>\n",
       "    <tr style=\"text-align: right;\">\n",
       "      <th></th>\n",
       "      <th>ALS</th>\n",
       "    </tr>\n",
       "  </thead>\n",
       "  <tbody>\n",
       "    <tr>\n",
       "      <th>0</th>\n",
       "      <td>Tommy Lee</td>\n",
       "    </tr>\n",
       "    <tr>\n",
       "      <th>1</th>\n",
       "      <td>The Tiger Lillies</td>\n",
       "    </tr>\n",
       "    <tr>\n",
       "      <th>2</th>\n",
       "      <td>Renegade Five</td>\n",
       "    </tr>\n",
       "    <tr>\n",
       "      <th>3</th>\n",
       "      <td>Evading Downfall</td>\n",
       "    </tr>\n",
       "    <tr>\n",
       "      <th>4</th>\n",
       "      <td>Whitechapel</td>\n",
       "    </tr>\n",
       "    <tr>\n",
       "      <th>5</th>\n",
       "      <td>I Killed the Prom Queen</td>\n",
       "    </tr>\n",
       "    <tr>\n",
       "      <th>6</th>\n",
       "      <td>Jacques Brel</td>\n",
       "    </tr>\n",
       "    <tr>\n",
       "      <th>7</th>\n",
       "      <td>Tegan and Sara</td>\n",
       "    </tr>\n",
       "    <tr>\n",
       "      <th>8</th>\n",
       "      <td>Shaaman</td>\n",
       "    </tr>\n",
       "    <tr>\n",
       "      <th>9</th>\n",
       "      <td>Blur</td>\n",
       "    </tr>\n",
       "  </tbody>\n",
       "</table>\n",
       "</div>"
      ],
      "text/plain": [
       "                       ALS\n",
       "0                Tommy Lee\n",
       "1        The Tiger Lillies\n",
       "2            Renegade Five\n",
       "3         Evading Downfall\n",
       "4              Whitechapel\n",
       "5  I Killed the Prom Queen\n",
       "6             Jacques Brel\n",
       "7           Tegan and Sara\n",
       "8                  Shaaman\n",
       "9                     Blur"
      ]
     },
     "execution_count": 218,
     "metadata": {},
     "output_type": "execute_result"
    }
   ],
   "source": [
    "# Top 3 recommendations for user \"66\"\n",
    "\n",
    "user = 2\n",
    "topk = 10\n",
    "\n",
    "res = {}\n",
    "for model_name, model in dict(ALS=als).items():\n",
    "    pred = predict_user_topn(model, train, user=user, topk=topk, item_col=\"artistID\")\n",
    "    # get name for each of the predicted product ids\n",
    "    pred_name = [lookup_artistID.loc[i][\"name\"] for i in pred]\n",
    "    res[model_name] = pred_name\n",
    "\n",
    "pd.DataFrame(res)"
   ]
  },
  {
   "cell_type": "code",
   "execution_count": null,
   "id": "bb3269df",
   "metadata": {},
   "outputs": [],
   "source": []
  }
 ],
 "metadata": {
  "kernelspec": {
   "display_name": "Python 3",
   "language": "python",
   "name": "python3"
  },
  "language_info": {
   "codemirror_mode": {
    "name": "ipython",
    "version": 3
   },
   "file_extension": ".py",
   "mimetype": "text/x-python",
   "name": "python",
   "nbconvert_exporter": "python",
   "pygments_lexer": "ipython3",
   "version": "3.8.8"
  }
 },
 "nbformat": 4,
 "nbformat_minor": 5
}
